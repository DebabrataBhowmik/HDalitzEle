{
 "cells": [
  {
   "cell_type": "code",
   "execution_count": 1,
   "metadata": {},
   "outputs": [
    {
     "name": "stdout",
     "output_type": "stream",
     "text": [
      "Welcome to JupyROOT 6.24/02\n"
     ]
    },
    {
     "data": {
      "text/plain": [
       "0"
      ]
     },
     "execution_count": 1,
     "metadata": {},
     "output_type": "execute_result"
    }
   ],
   "source": [
    "import sys, os\n",
    "import ROOT\n",
    "from pprint import pprint\n",
    "from glob import glob\n",
    "from CMS_lumi import CMS_lumi\n",
    "\n",
    "ROOT.gROOT.LoadMacro(\"../interface/tdrstyle.C\")\n",
    "ROOT.gROOT.ProcessLine(\"setTDRStyle();\")"
   ]
  },
  {
   "cell_type": "code",
   "execution_count": 2,
   "metadata": {},
   "outputs": [
    {
     "data": {
      "text/plain": [
       "0"
      ]
     },
     "execution_count": 2,
     "metadata": {},
     "output_type": "execute_result"
    }
   ],
   "source": [
    "# ROOT.gInterpreter.ProcessLine(\"\"\" #include \"../interface/EnRegression_Signal.h\" \"\"\")\n",
    "# eleHDALRegPt\n",
    "ROOT.gInterpreter.Declare(\"\"\"\n",
    "\n",
    "\n",
    "\n",
    "\n",
    "\n",
    "\"\"\")\n",
    "\n"
   ]
  },
  {
   "cell_type": "code",
   "execution_count": 3,
   "metadata": {},
   "outputs": [
    {
     "name": "stdout",
     "output_type": "stream",
     "text": [
      "['../../GenStudy/miniTree/UL2016preVFP/miniTree_HDalitz_ggF_eeg_125_UL2016preVFP.root',\n",
      " '../../GenStudy/miniTree/UL2018/miniTree_HDalitz_ggF_eeg_125_UL2018.root',\n",
      " '../../GenStudy/miniTree/UL2016postVFP/miniTree_HDalitz_ggF_eeg_125_UL2016postVFP.root',\n",
      " '../../GenStudy/miniTree/UL2017/miniTree_HDalitz_ggF_eeg_125_UL2017.root']\n"
     ]
    }
   ],
   "source": [
    "ROOT.EnableImplicitMT(20)\n",
    "sigfiles = glob(\"../../GenStudy/miniTree/*/miniTree_HDalitz_ggF_eeg_125_*.root\") \n",
    "pprint(sigfiles)\n",
    "\n",
    "# Merged-2Gsf\n",
    "rdf = ROOT.RDataFrame(\"miniTree\", sigfiles).Filter(\"elePresel_Lead == 1 && eleCalibPt_Lead > 25 && category == 2\")\\\n",
    "          .Define(\"diTrkPt_Lead\",       \"(float) diTrk.Pt()\")\n",
    "\n",
    "rdf_reg = ROOT.doEnRegression_BDTG(ROOT.RDF.AsRNode(rdf))"
   ]
  },
  {
   "cell_type": "code",
   "execution_count": null,
   "metadata": {},
   "outputs": [
    {
     "ename": "",
     "evalue": "",
     "output_type": "error",
     "traceback": [
      "\u001b[1;31mThe Kernel crashed while executing code in the the current cell or a previous cell. Please review the code in the cell(s) to identify a possible cause of the failure. Click <a href='https://aka.ms/vscodeJupyterKernelCrash'>here</a> for more info. View Jupyter <a href='command:jupyter.viewOutput'>log</a> for further details."
     ]
    },
    {
     "ename": "",
     "evalue": "",
     "output_type": "error",
     "traceback": [
      "\u001b[1;31mCanceled future for execute_request message before replies were done"
     ]
    }
   ],
   "source": [
    "region = \"EB\"\n",
    "# filter = \"abs(eleSCEta_Lead) < 1.4442\" if \"EB\" in region else \"abs(eleSCEta_Lead) > 1.566 && abs(eleSCEta_Lead) < 2.5\"\n",
    "rdf_reg_EB = rdf_reg.Filter(\"abs(eleSCEta_Lead) < 1.4442\")\\\n",
    "                    .Define(\"RecoEleReg_Lead\", \"ROOT::Math::PtEtaPhiMVector v(eleHDALRegPt_Lead, RecoEle_Lead.Eta(), RecoEle_Lead.Phi(), RecoEle_Lead.M()); return v;\")\\\n",
    "                    .Define(\"RecoEleOri_Lead\", \"ROOT::Math::PtEtaPhiMVector v(eleCalibPt_Lead, RecoEle_Lead.Eta(), RecoEle_Lead.Phi(), RecoEle_Lead.M()); return v;\")\\\n",
    "                    .Define(\"higgsMass_NEW\", \"(RecoEleReg_Lead + RecoPho_Lead).M()\")\\\n",
    "                    .Define(\"higgsMass_OLD\", \"(RecoEleOri_Lead + RecoPho_Lead).M()\")\n",
    "                     \n",
    "h_new_EB = rdf_reg_EB.Histo1D((\"h_new_EB\", \"h_new_EB\", 90, 110, 140), \"higgsMass_NEW\", \"wei\").GetPtr()\n",
    "h_EB = rdf_reg_EB.Histo1D((\"h_EB\", \"h_EB\", 90, 110, 140), \"higgsMass_OLD\", \"wei\").GetPtr()"
   ]
  }
 ],
 "metadata": {
  "kernelspec": {
   "display_name": "hdalitz2",
   "language": "python",
   "name": "python3"
  },
  "language_info": {
   "codemirror_mode": {
    "name": "ipython",
    "version": 3
   },
   "file_extension": ".py",
   "mimetype": "text/x-python",
   "name": "python",
   "nbconvert_exporter": "python",
   "pygments_lexer": "ipython3",
   "version": "3.8.13 | packaged by conda-forge | (default, Mar 25 2022, 06:04:10) \n[GCC 10.3.0]"
  },
  "orig_nbformat": 4,
  "vscode": {
   "interpreter": {
    "hash": "da6cd3c9fb0570e2bdeac5b474102338b7ef27d348ff27bb8d5e91661a0e54f2"
   }
  }
 },
 "nbformat": 4,
 "nbformat_minor": 2
}
