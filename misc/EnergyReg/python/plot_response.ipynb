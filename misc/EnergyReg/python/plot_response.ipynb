{
 "cells": [
  {
   "cell_type": "code",
   "execution_count": 1,
   "metadata": {},
   "outputs": [
    {
     "name": "stdout",
     "output_type": "stream",
     "text": [
      "Welcome to JupyROOT 6.24/02\n"
     ]
    },
    {
     "name": "stderr",
     "output_type": "stream",
     "text": [
      "/home/chenghan/.conda/envs/hdalitz2/lib/python3.8/site-packages/ROOT/_facade.py:150: FutureWarning: pandas.Int64Index is deprecated and will be removed from pandas in a future version. Use pandas.Index with the appropriate dtype instead.\n",
      "  return _orig_ihook(name, *args, **kwds)\n",
      "/home/chenghan/.conda/envs/hdalitz2/lib/python3.8/site-packages/xgboost/compat.py:36: FutureWarning: pandas.Int64Index is deprecated and will be removed from pandas in a future version. Use pandas.Index with the appropriate dtype instead.\n",
      "  from pandas import MultiIndex, Int64Index\n"
     ]
    },
    {
     "data": {
      "text/plain": [
       "0"
      ]
     },
     "execution_count": 1,
     "metadata": {},
     "output_type": "execute_result"
    }
   ],
   "source": [
    "import sys, os\n",
    "import ROOT\n",
    "import numpy as np\n",
    "import xgboost as xgb\n",
    "import pandas as pd\n",
    "from CMS_lumi import CMS_lumi\n",
    "from colorPrint import *\n",
    "\n",
    "ROOT.gROOT.LoadMacro(\"../interface/tdrstyle.C\")\n",
    "ROOT.gROOT.ProcessLine(\"setTDRStyle();\")"
   ]
  },
  {
   "cell_type": "code",
   "execution_count": null,
   "metadata": {},
   "outputs": [],
   "source": [
    "iBE = 0 # 0 for EB and 1 for EE\n",
    "\n",
    "features = [\n",
    "    \"rho\",\n",
    "    \"nVtx\",\n",
    "    \"eleSCEta_Lead\",\n",
    "    \"eleSCPhi_Lead\",\n",
    "    \"eleSCRawEn_Lead\",\n",
    "    \"eleCalibPt_Lead\",\n",
    "\n",
    "    \"eledEtaAtVtx_Lead\",\n",
    "    \"eledPhiAtVtx_Lead\",\n",
    "    \"elePtError_Lead\",\n",
    "    \"eleHoverE_Lead\",\n",
    "    \"eleEoverP_Lead\",\n",
    "    \"eleEoverPout_Lead\",\n",
    "    \"eleEoverPInv_Lead\",\n",
    "\n",
    "    \"eleSCEtaWidth_Lead\",\n",
    "    \"eleSCPhiWidth_Lead\",\n",
    "    \"eleSigmaIEtaIEtaFull5x5_Lead\",\n",
    "    \"eleSigmaIPhiIPhiFull5x5_Lead\",\n",
    "    \"eleR9Full5x5_Lead\",\n",
    "    \"eleBrem_Lead\",\n",
    "\n",
    "    \"gsfPtSum_Lead\",\n",
    "    \"gsfPtRatio_Lead\",\n",
    "    \"diTrkPt\",\n",
    "    \"gsfDeltaR_Lead\"\n",
    "]\n",
    "if iBE == 1:\n",
    "    features.append(\"eleESEnToRawE_Lead\")\n",
    "\n",
    "\n",
    "cut_base = \"elePresel_Lead == 1 && eleCalibPt_Lead > 25 && category == 2\"\n",
    "cut_region = \"fabs(eleSCEta_Lead) < 1.479\"\n",
    "if iBE == 1:\n",
    "    cut_region = \"fabs(eleSCEta_Lead) >= 1.479 && fabs(eleSCEta_Lead) < 2.5\"\n",
    "# cut_target = \"target < 2 && target > 0\"\n",
    "\n",
    "ROOT.EnableImplicitMT(20)\n",
    "data = ROOT.RDataFrame(\"miniTree\", \"../reg_signal.root\")\\\n",
    "           .Define(\"target\",    \n",
    "                #    \"diGenEle.Pt()/eleCalibPt_Lead\"\n",
    "                   \"diGenEle.Pt()/elePt_Lead\"\n",
    "            )\\\n",
    "           .Define(\"diTrkPt\",   \"diTrk.Pt()\")\\\n",
    "           .Define(\"RatioRL\",   \"(eleEright_Lead - eleEleft_Lead)/(eleEright_Lead + eleEleft_Lead)\")\\\n",
    "           .Define(\"RatioBT\",   \"(eleEtop_Lead - eleEbottom_Lead)/(eleEtop_Lead + eleEbottom_Lead)\")\\\n",
    "           .Define(\"eleCalibPtToRawE\", \"eleCalibPt_Lead/eleSCRawEn_Lead\")\\\n",
    "           .Define(\"diTrkPtToRawE\", \"diTrkPt/eleSCRawEn_Lead\")\\\n",
    "           .Define(\"eleEmaxToRawE\", \"eleEmax_Lead/eleSCRawEn_Lead\")\\\n",
    "           .Define(\"eleE2ndToRawE\", \"eleE2nd_Lead/eleSCRawEn_Lead\")\\\n",
    "           .Define(\"eleE2x2ToRawE\", \"eleE2x2Full5x5_Lead/eleSCRawEn_Lead\")\\\n",
    "           .Define(\"eleE2x5ToRawE\", \"eleE2x5Full5x5_Lead/eleSCRawEn_Lead\")\\\n",
    "           .Define(\"eleE1x3ToRawE\", \"eleE1x3Full5x5_Lead/eleSCRawEn_Lead\")\\\n",
    "           .Define(\"genPt\",     \"diGenEle.Pt()\")\\\n",
    "           .Filter(\"{} && {}\".format(cut_base, cut_region))\\"
   ]
  }
 ],
 "metadata": {
  "kernelspec": {
   "display_name": "hdalitz2",
   "language": "python",
   "name": "python3"
  },
  "language_info": {
   "codemirror_mode": {
    "name": "ipython",
    "version": 3
   },
   "file_extension": ".py",
   "mimetype": "text/x-python",
   "name": "python",
   "nbconvert_exporter": "python",
   "pygments_lexer": "ipython3",
   "version": "3.8.13"
  },
  "orig_nbformat": 4
 },
 "nbformat": 4,
 "nbformat_minor": 2
}
