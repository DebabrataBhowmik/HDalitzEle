{
 "cells": [
  {
   "cell_type": "code",
   "execution_count": 1,
   "metadata": {},
   "outputs": [
    {
     "name": "stdout",
     "output_type": "stream",
     "text": [
      "Welcome to JupyROOT 6.24/02\n"
     ]
    },
    {
     "data": {
      "text/plain": [
       "0"
      ]
     },
     "execution_count": 1,
     "metadata": {},
     "output_type": "execute_result"
    }
   ],
   "source": [
    "import sys, os\n",
    "import ROOT\n",
    "from pprint import pprint\n",
    "from glob import glob\n",
    "from CMS_lumi import CMS_lumi\n",
    "\n",
    "ROOT.gROOT.LoadMacro(\"../interface/tdrstyle.C\")\n",
    "ROOT.gROOT.ProcessLine(\"setTDRStyle();\")"
   ]
  },
  {
   "cell_type": "code",
   "execution_count": null,
   "metadata": {},
   "outputs": [],
   "source": [
    "ROOT.gInterpreter.ProcessLine(\"\"\" #include \"../interface/EnRegression_Signal.h\" \"\"\")"
   ]
  },
  {
   "cell_type": "code",
   "execution_count": 3,
   "metadata": {},
   "outputs": [
    {
     "name": "stdout",
     "output_type": "stream",
     "text": [
      "['../../GenStudy/miniTree/UL2016preVFP/miniTree_HDalitz_ggF_eeg_125_UL2016preVFP.root',\n",
      " '../../GenStudy/miniTree/UL2018/miniTree_HDalitz_ggF_eeg_125_UL2018.root',\n",
      " '../../GenStudy/miniTree/UL2016postVFP/miniTree_HDalitz_ggF_eeg_125_UL2016postVFP.root',\n",
      " '../../GenStudy/miniTree/UL2017/miniTree_HDalitz_ggF_eeg_125_UL2017.root']\n"
     ]
    }
   ],
   "source": [
    "ROOT.EnableImplicitMT(20)\n",
    "sigfiles = glob(\"../../GenStudy/miniTree/*/miniTree_HDalitz_ggF_eeg_125_*.root\") \n",
    "pprint(sigfiles)\n",
    "rdf = ROOT.RDataFrame(\"miniTree\", sigfiles).Filter(\"category == 2\") # Merged-2Gsf"
   ]
  },
  {
   "cell_type": "code",
   "execution_count": 4,
   "metadata": {},
   "outputs": [],
   "source": [
    "rdf_reg = ROOT.doEnRegression(ROOT.RDF.AsRNode(rdf), \"eleHDALRegPt_Lead\")"
   ]
  },
  {
   "cell_type": "code",
   "execution_count": 5,
   "metadata": {},
   "outputs": [],
   "source": [
    "region = \"EB\"\n",
    "# filter = \"abs(eleSCEta_Lead) < 1.4442\" if \"EB\" in region else \"abs(eleSCEta_Lead) > 1.566 && abs(eleSCEta_Lead) < 2.5\"\n",
    "rdf_reg_EB = rdf_reg.Filter(\"abs(eleSCEta_Lead) < 1.4442\")\\\n",
    "                    .Define(\"eleHDALRegPt_Lead\", \"electron_regression[\\\"DNN\\\"]\")\\\n",
    "                    .Define(\"RecoEleReg_Lead\", \"ROOT::Math::PtEtaPhiMVector v(eleHDALRegPt_Lead, RecoEle_Lead.Eta(), RecoEle_Lead.Phi(), RecoEle_Lead.M()); return v;\")\\\n",
    "                    .Define(\"RecoEleOri_Lead\", \"ROOT::Math::PtEtaPhiMVector v(eleCalibPt_Lead, RecoEle_Lead.Eta(), RecoEle_Lead.Phi(), RecoEle_Lead.M()); return v;\")\\\n",
    "                    .Define(\"higgsMass_NEW\", \"(RecoEleReg_Lead + RecoPho_Lead).M()\")\\\n",
    "                    .Define(\"higgsMass_OLD\", \"(RecoEleOri_Lead + RecoPho_Lead).M()\")\n",
    "                     \n",
    "h_new_EB = rdf_reg_EB.Histo1D((\"h_new_EB\", \"h_new_EB\", 90, 110, 140), \"higgsMass_NEW\", \"wei\").GetPtr()\n",
    "h_EB = rdf_reg_EB.Histo1D((\"h_EB\", \"h_EB\", 90, 110, 140), \"higgsMass_OLD\", \"wei\").GetPtr()"
   ]
  },
  {
   "cell_type": "code",
   "execution_count": 12,
   "metadata": {},
   "outputs": [
    {
     "name": "stdout",
     "output_type": "stream",
     "text": [
      "Before energy correction: sigma = 5.0930\n",
      "After energy correction: sigma = 4.7462\n"
     ]
    }
   ],
   "source": [
    "effsig_new = getEffSigma(h_new_EB)\n",
    "effsig = getEffSigma(h_EB)\n",
    "\n",
    "print(\"Before energy correction (EB): sigma = {:.4f}\".format(effsig))\n",
    "print(\"After energy correction  (EE): sigma = {:.4f}\".format(effsig_new))"
   ]
  },
  {
   "cell_type": "code",
   "execution_count": 8,
   "metadata": {},
   "outputs": [
    {
     "data": {
      "image/png": "[encoded data removed]",
      "text/plain": [
       "<IPython.core.display.Image object>"
      ]
     },
     "metadata": {},
     "output_type": "display_data"
    }
   ],
   "source": [
    "h_new_EB.Scale(1./h_new_EB.Integral(-1, -1))\n",
    "h_EB.Scale(1./h_EB.Integral(-1, -1))\n",
    "\n",
    "c = ROOT.TCanvas(\"c\", \"\", 800, 700)\n",
    "c.cd()\n",
    "c.SetRigh_EBtMargin(0.05)\n",
    "c.SetTopMargin(0.07)\n",
    "c.SetLeftMargin(0.15)\n",
    "c.SetBottomMargin(0.13)\n",
    "\n",
    "h_EB.GetXaxis().SetTitle(\"M_{ee#gamma} [GeV]\")\n",
    "h_EB.GetYaxis().SetTitle(\"arb. unit\")\n",
    "h_EB.GetYaxis().SetRangeUser(0, h_EB.GetBinContent(h_EB.GetMaximumBin()) * 1.4)\n",
    "\n",
    "h_EB.SetLineColor(ROOT.TColor.GetColor(\"#E16262\"))\n",
    "h_EB.SetLineWidth(3)\n",
    "\n",
    "h_new_EB.SetLineColor(ROOT.TColor.GetColor(\"#3A9679\"))\n",
    "h_new_EB.SetLineWidth(3)\n",
    "\n",
    "h_EB.Draw(\"hist\")\n",
    "h_new_EB.Draw(\"hist same\")\n",
    "\n",
    "leg = ROOT.TLegend(0.5, 0.75, 0.89, 0.9)\n",
    "leg.SetTextSize(0.035)\n",
    "leg.AddEntry(h_EB, \"Before energy correction\", \"l\")\n",
    "leg.AddEntry(h_new_EB, \"After energy correction\", \"l\")\n",
    "leg.SetFillColor(0)\n",
    "leg.SetLineColor(0)\n",
    "leg.Draw()\n",
    "\n",
    "extral = \"ECAL Barrel\" if \"EB\" in region else \"ECAL Endcap\"\n",
    "ltx = ROOT.TLatex()\n",
    "ltx.SetNDC()\n",
    "ltx.SetTextFont(42)\n",
    "ltx.SetTextSize(0.04)\n",
    "ltx.DrawLatex(0.2, 0.73, extral)\n",
    "\n",
    "ltx.DrawLatex(0.6, 0.7, \"M_{H} = 125 GeV\")\n",
    "\n",
    "ltx.DrawLatex(0.75, 0.65, \"#sigma^{Before}_{eff} = %.4f GeV\")\n",
    "ltx.DrawLatex(0.75, 0.62, \"#sigma^{After}_{eff} = %.4f GeV\")\n",
    "\n",
    "l = ROOT.TLine(125, 0, 125, h_EB.GetBinContent(h_EB.GetMaximumBin()) * 1.05)\n",
    "l.SetLineStyle(7)\n",
    "l.SetLineWidth(3)\n",
    "l.SetLineColor(ROOT.TColor.GetColor(\"#202020\"))\n",
    "l.Draw()\n",
    "\n",
    "CMS_lumi(c, 5, 10, \"138 fb^{-1}\", 2017, True, \"Simulation Preliminary\", \"H #rightarrow #gamma* #gamma #rightarrow ee#gamma\", \"\")\n",
    "\n",
    "c.Draw()"
   ]
  },
  {
   "cell_type": "code",
   "execution_count": null,
   "metadata": {},
   "outputs": [],
   "source": []
  }
 ],
 "metadata": {
  "kernelspec": {
   "display_name": "hdalitz2",
   "language": "python",
   "name": "python3"
  },
  "language_info": {
   "codemirror_mode": {
    "name": "ipython",
    "version": 3
   },
   "file_extension": ".py",
   "mimetype": "text/x-python",
   "name": "python",
   "nbconvert_exporter": "python",
   "pygments_lexer": "ipython3",
   "version": "3.8.13"
  },
  "orig_nbformat": 4,
  "vscode": {
   "interpreter": {
    "hash": "da6cd3c9fb0570e2bdeac5b474102338b7ef27d348ff27bb8d5e91661a0e54f2"
   }
  }
 },
 "nbformat": 4,
 "nbformat_minor": 2
}
