{
 "cells": [
  {
   "cell_type": "code",
   "execution_count": 2,
   "metadata": {},
   "outputs": [
    {
     "name": "stdout",
     "output_type": "stream",
     "text": [
      "Welcome to JupyROOT 6.24/02\n"
     ]
    }
   ],
   "source": [
    "import ROOT\n",
    "import numpy as np"
   ]
  },
  {
   "cell_type": "code",
   "execution_count": 3,
   "metadata": {},
   "outputs": [],
   "source": [
    "from sklearn.model_selection import train_test_split\n",
    "region = \"EE\"\n",
    "\n",
    "ROOT.EnableImplicitMT(30)\n",
    "    \n",
    "global features\n",
    "features = [\n",
    "    \"rho\",\n",
    "    \"nVtx\",\n",
    "    \"eleSCEta_Lead\",\n",
    "    \"eleSCPhi_Lead\",\n",
    "    \"eleSCRawEn_Lead\",\n",
    "    \"eleCalibPt_Lead\",\n",
    "\n",
    "    \"eledEtaAtVtx_Lead\",\n",
    "    \"eledPhiAtVtx_Lead\",\n",
    "    \"elePtError_Lead\",\n",
    "    \"eleHoverE_Lead\",\n",
    "    \"eleEoverP_Lead\",\n",
    "    \"eleEoverPout_Lead\",\n",
    "    \"eleEoverPInv_Lead\",\n",
    "\n",
    "    \"eleSCEtaWidth_Lead\",\n",
    "    \"eleSCPhiWidth_Lead\",\n",
    "    \"eleSigmaIEtaIEtaFull5x5_Lead\",\n",
    "    \"eleSigmaIPhiIPhiFull5x5_Lead\",\n",
    "    \"eleR9Full5x5_Lead\",\n",
    "    \"eleBrem_Lead\",\n",
    "\n",
    "    \"gsfPtSum_Lead\",\n",
    "    \"gsfPtRatio_Lead\",\n",
    "    \"diTrkPt\",\n",
    "    \"gsfDeltaR_Lead\",\n",
    "\n",
    "    # \"eleE3x3Full5x5_Lead\",\n",
    "    # \"eleEmax_Lead\",\n",
    "    # \"eleE2nd_Lead\",\n",
    "    # \"RatioRL\",\n",
    "    # \"RatioBT\"\n",
    "]\n",
    "if region == \"EE\":\n",
    "    features.append(\"eleESEnToRawE_Lead\")\n",
    "\n",
    "cut_base = \"elePresel_Lead == 1 && eleCalibPt_Lead > 25 && eleCalibPt_Lead < 150 && category == 2\"\n",
    "cut_region = \"fabs(eleSCEta_Lead) < 1.4442\"\n",
    "if region == \"EE\":\n",
    "    cut_region = \"fabs(eleSCEta_Lead) > 1.566 && fabs(eleSCEta_Lead) < 2.5\"\n",
    "cut_target = \"target < 1.5 && target > 0.5\"\n",
    "data_sig = ROOT.RDataFrame(\"miniTree\", \"../reg_signal.root\")\\\n",
    "                .Define(\"target\", \"diGenEle.Pt()/eleCalibPt_Lead\")\\\n",
    "                .Define(\"diTrkPt\", \"diTrk.Pt()\")\\\n",
    "                .Define(\"RatioRL\", \"(eleEright_Lead - eleEleft_Lead)/(eleEright_Lead + eleEleft_Lead)\")\\\n",
    "                .Define(\"RatioBT\", \"(eleEtop_Lead - eleEbottom_Lead)/(eleEtop_Lead + eleEbottom_Lead)\")\\\n",
    "                .Filter(\"{} && {} && {}\".format(cut_base, cut_region, cut_target))\\\n",
    "                .AsNumpy(columns=features+[\"instwei\", \"target\"])\n",
    "\n",
    "x = np.vstack([data_sig[var] for var in features]).T\n",
    "y = data_sig[\"target\"]\n",
    "w = data_sig[\"instwei\"]\n",
    "x_train_, x_test_, y_train_, y_test_, w_train_, w_test_ = train_test_split(x, y, w, test_size=0.2, random_state=42)"
   ]
  },
  {
   "cell_type": "code",
   "execution_count": 4,
   "metadata": {},
   "outputs": [],
   "source": [
    "from scipy.stats import norm\n",
    "from scipy.optimize import curve_fit\n",
    "from scipy.special import erfc\n",
    "# from lmfit import Model\n",
    "\n",
    "# Define the Cruijff function\n",
    "def cruijff(x, mean, sigmaL, sigmaR, alphaL, alphaR):\n",
    "    y = np.zeros(x.shape)\n",
    "    for i in range(len(x)):\n",
    "        sigma = sigmaL if x[i] < mean else sigmaR\n",
    "        alpha = alphaL if x[i] < mean else alphaR\n",
    "        diff = (x[i] - mean) / sigma\n",
    "        diff2 = diff * diff\n",
    "        y[i] = np.exp(- diff2 / (2 * sigma * sigma + alpha * diff2))\n",
    "    return y\n",
    "        \n",
    "# def cruijff(x, center, sigma_l, sigma_r, alpha_l, alpha_r):\n",
    "#     sigma = sigma_l * erfc(alpha_l / np.sqrt(2)) + sigma_r * erfc(alpha_r / np.sqrt(2))\n",
    "#     alpha = alpha_l * sigma_l / sigma + alpha_r * sigma_r / sigma\n",
    "#     center_l = center - sigma_l * np.sqrt(2) * erfc(alpha_l / np.sqrt(2))\n",
    "#     center_r = center + sigma_r * np.sqrt(2) * erfc(alpha_r / np.sqrt(2))\n",
    "#     return 1 * (1.0 - alpha * np.exp(-0.5 * ((x - center) / sigma) ** 2\n",
    "#                              + alpha_l * (x - center_l) / sigma_l\n",
    "#                              - alpha_r * (x - center_r) / sigma_r))\n",
    "    \n",
    "# Define the double-sided crystal ball function\n",
    "def double_crystal_ball(x, alpha, n, sigma, mu, A1, A2):\n",
    "    f = np.empty_like(x)\n",
    "    x = (x - mu) / sigma\n",
    "    mask = x > -alpha\n",
    "    f[mask] = A1 * np.exp(-0.5 * x[mask]**2)\n",
    "    f[~mask] = A2 * (n / abs(alpha))**n * (n / abs(alpha) - abs(alpha) - x[~mask])**(-n)\n",
    "    return f\n"
   ]
  },
  {
   "cell_type": "code",
   "execution_count": 5,
   "metadata": {},
   "outputs": [
    {
     "name": "stdout",
     "output_type": "stream",
     "text": [
      "[2.19731106 1.13310094 0.03659119 1.00906801 0.09973473 0.00802727]\n",
      "[[ 4.24965179e-01 -6.30985284e-01 -8.60176987e-06  5.02204079e-06\n",
      "   1.15590475e-05 -5.03760197e-03]\n",
      " [-6.30985284e-01  1.24273063e+00 -4.28586100e-13  2.88656634e-12\n",
      "   5.57823356e-13  8.18428874e-03]\n",
      " [-8.60176987e-06 -4.28583376e-13  2.27399569e-07 -6.12301337e-09\n",
      "  -3.06449220e-07 -9.21012243e-08]\n",
      " [ 5.02204079e-06  2.88656876e-12 -6.12301337e-09  2.16576537e-07\n",
      "   6.76487741e-09  2.23019689e-08]\n",
      " [ 1.15590475e-05  5.57819291e-13 -3.06449220e-07  6.76487741e-09\n",
      "   1.20800578e-06  1.23981694e-07]\n",
      " [-5.03760197e-03  8.18428874e-03 -9.21012243e-08  2.23019689e-08\n",
      "   1.23981694e-07  6.47892229e-05]]\n"
     ]
    }
   ],
   "source": [
    "hist, bin_edges = np.histogram(y_train_, weights=w_train_/sum(w_train_), bins=100)\n",
    "n = len(hist)\n",
    "x_hist = np.zeros((n), dtype=float) \n",
    "for ii in range(n):\n",
    "    x_hist[ii] = (bin_edges[ii+1]+bin_edges[ii])/2\n",
    "y_hist = hist\n",
    "\n",
    "p_init = [1.0, 1.0, np.std(y_train_), np.mean(y_train_), np.max(y_train_), np.max(y_train_)]\n",
    "param_opt, param_matrix = curve_fit(double_crystal_ball, x_hist, y_hist, p0=p_init, maxfev=5000)\n",
    "\n",
    "# param_opt, param_matrix = curve_fit(cruijff, x_hist, y_hist, p0=[0, np.std(y_train_), np.std(y_train_), 0.02, 0.02], maxfev=5000)\n",
    "print(param_opt)\n",
    "print(param_matrix)"
   ]
  },
  {
   "cell_type": "code",
   "execution_count": 6,
   "metadata": {},
   "outputs": [
    {
     "data": {
      "image/png": "[encoded data removed]",
      "text/plain": [
       "<Figure size 432x288 with 1 Axes>"
      ]
     },
     "metadata": {
      "needs_background": "light"
     },
     "output_type": "display_data"
    }
   ],
   "source": [
    "import matplotlib.pyplot as plt\n",
    "\n",
    "fig = plt.figure()\n",
    "x_hist_2 = np.linspace(np.min(x_hist), np.max(x_hist), 200)\n",
    "plt.plot(x_hist_2, double_crystal_ball(x_hist_2, *param_opt), \"r.:\", label=\"double_crystal_ball fit\")\n",
    "plt.legend()\n",
    "\n",
    "# Normalise the histogram values\n",
    "plt.hist(y_train_, weights=w_train_/sum(w_train_), bins=100)\n",
    "\n",
    "#setting the label,title and grid of the plot\n",
    "plt.xlabel(\"Data: Random variable\")\n",
    "plt.ylabel(\"Probability\")\n",
    "plt.grid(\"on\")\n",
    "plt.show()"
   ]
  },
  {
   "cell_type": "code",
   "execution_count": 8,
   "metadata": {},
   "outputs": [
    {
     "data": {
      "text/plain": [
       "XGBRegressor(base_score=0.5, booster='gbtree', colsample_bylevel=1,\n",
       "             colsample_bynode=1, colsample_bytree=1, enable_categorical=False,\n",
       "             gamma=0, gpu_id=0, importance_type=None,\n",
       "             interaction_constraints='', learning_rate=0.300000012,\n",
       "             max_delta_step=0, max_depth=6, min_child_weight=1, missing=nan,\n",
       "             monotone_constraints='()', n_estimators=100, n_jobs=48,\n",
       "             num_parallel_tree=1, predictor='auto', random_state=0, reg_alpha=0,\n",
       "             reg_lambda=1, scale_pos_weight=1, subsample=1,\n",
       "             tree_method='gpu_hist', validate_parameters=1, verbosity=None)"
      ]
     },
     "execution_count": 8,
     "metadata": {},
     "output_type": "execute_result"
    }
   ],
   "source": [
    "import xgboost as xgb\n",
    "\n",
    "alpha, n, sigma, mu, A1, A2 = param_opt\n",
    "model = xgb.XGBRegressor(objective=\"reg:squarederror\", tree_method=\"gpu_hist\")\n",
    "model.fit(x_train_, double_crystal_ball(y_train_, alpha, n, sigma, mu, A1, A2))\n"
   ]
  },
  {
   "cell_type": "code",
   "execution_count": 10,
   "metadata": {},
   "outputs": [
    {
     "data": {
      "text/plain": [
       "2196317"
      ]
     },
     "execution_count": 10,
     "metadata": {},
     "output_type": "execute_result"
    }
   ],
   "source": [
    "predictions = model.predict(x_train_)\n"
   ]
  },
  {
   "cell_type": "code",
   "execution_count": 30,
   "metadata": {},
   "outputs": [],
   "source": [
    "from scipy.optimize import root\n",
    "\n",
    "\n",
    "def double_crystalball(x):\n",
    "    alphaL, alphaR, nL, nR, mu, sigma = \n",
    "    zL = (x - mu) / sigma * abs(alphaL)\n",
    "    zR = (x - mu) / sigma * abs(alphaR)\n",
    "    argL = abs(alphaL) / np.sqrt(2) * sigma\n",
    "    argR = abs(alphaR) / np.sqrt(2) * sigma\n",
    "    A = nL / (abs(alphaL)**abs(alphaL) * np.exp(-0.5 * argL**2))\n",
    "    B = nR / (abs(alphaR)**abs(alphaR) * np.exp(-0.5 * argR**2))\n",
    "    C = (x - mu) / sigma\n",
    "    D = sigma**2 / 2\n",
    "    if alphaL < 0:\n",
    "        return np.where(zL < -alphaL, A * (abs(alphaL) / argL)**abs(alphaL) * (B / A)**(abs(alphaL) - 1) * np.exp(-0.5 * argL**2), nL * np.exp(-0.5 * C**2) )\n",
    "    else:\n",
    "        return np.where(zL > alphaL, A * (abs(alphaL) / argL)**abs(alphaL) * (B / A)**(abs(alphaL) - 1) * np.exp(-0.5 * argL**2), nL * (np.exp(-0.5 * C**2) / (abs(alphaL) - zL)))\n",
    "    if alphaR < 0:\n",
    "        return np.where(zR < -alphaR, B * (abs(alphaR) / argR)**abs(alphaR) * (A / B)**(abs(alphaR) - 1) * np.exp(-0.5 * argR**2), nR * np.exp(-0.5 * C**2) )\n",
    "    else:\n",
    "        return np.where(zR > alphaR, B * (abs(alphaR) / argR)**abs(alphaR) * (A / B)**(abs(alphaR) - 1) * np.exp(-0.5 * argR**2), nR * (np.exp(-0.5 * C**2) / (abs(alphaR) - zR)))\n",
    "    \n",
    "    \n",
    "sol = root(double_crystal_ball, [1], jac=jac, method='hybr')\n",
    "    "
   ]
  },
  {
   "cell_type": "code",
   "execution_count": 33,
   "metadata": {},
   "outputs": [
    {
     "name": "stdout",
     "output_type": "stream",
     "text": [
      "1785.3099875510634\n"
     ]
    }
   ],
   "source": [
    "xvar_Da, dset_Da = rdf2dataset(df_Da_new.Filter(\"eleHDALScalePt_Lead > 25 && eleHDALScalePt_Lead < 35\"), \"zMass\", [80, 100])\n",
    "\n",
    "pdf = ROOT.RooKeysPdf(\"pdf\", \"\", xvar_Zg, dset_Zg, ROOT.RooKeysPdf.MirrorBoth, 2)\n",
    "nll = pdf.createNLL(dset_Da)\n",
    "print(nll.getVal())\n",
    "# print(chi2.getVal())"
   ]
  },
  {
   "cell_type": "code",
   "execution_count": 34,
   "metadata": {},
   "outputs": [
    {
     "data": {
      "image/png": "[encoded data removed]",
      "text/plain": [
       "<IPython.core.display.Image object>"
      ]
     },
     "metadata": {},
     "output_type": "display_data"
    }
   ],
   "source": [
    "import numpy as np\n",
    "import pandas as pd\n",
    "import xgboost as xgb\n",
    "from scipy.stats import norm\n",
    "from scipy.optimize import curve_fit\n",
    "\n",
    "# Define the double-sided crystal ball function\n",
    "def double_crystal_ball(x, alpha, n, sigma, mu, A1, A2):\n",
    "    f = np.empty_like(x)\n",
    "    x = (x - mu) / sigma\n",
    "    mask = x > -alpha\n",
    "    f[mask] = A1 * np.exp(-0.5 * x[mask]**2)\n",
    "    f[~mask] = A2 * (n / abs(alpha))**n * (n / abs(alpha) - abs(alpha) - x[~mask])**(-n)\n",
    "    return f\n",
    "\n",
    "# Load the data\n",
    "data = pd.read_csv(\"data.csv\")\n",
    "\n",
    "# Compute the target variable\n",
    "target = data[\"true_energy\"] / data[\"reconstructed_energy\"]\n",
    "\n",
    "# Define the input variables\n",
    "inputs = data[[\"shower_shape_var1\", \"shower_shape_var2\", \"shower_shape_var3\"]]\n",
    "\n",
    "# Split the data into training and testing sets\n",
    "train_size = int(0.8 * len(data))\n",
    "train_inputs = inputs[:train_size]\n",
    "train_target = target[:train_size]\n",
    "test_inputs = inputs[train_size:]\n",
    "test_target = target[train_size:]\n",
    "\n",
    "# Fit the double-sided crystal ball function to the target variable\n",
    "p0 = [1.0, 1.0, 1.0, np.mean(target), np.max(target), np.max(target)]\n",
    "popt, _ = curve_fit(double_crystal_ball, test_target, np.ones_like(test_target), p0=p0)\n",
    "alpha, n, sigma, mu, A1, A2 = popt\n",
    "\n",
    "# Define the XGBoost model\n",
    "model = xgb.XGBRegressor(objective=\"reg:squarederror\")\n",
    "\n",
    "# Train the model\n",
    "model.fit(train_inputs, double_crystal_ball(train_target, alpha, n, sigma, mu, A1, A2))\n",
    "\n",
    "# Evaluate the model on the testing set\n",
    "predictions = model.predict(test_inputs)\n",
    "\n",
    "# Compute the mean absolute percentage error\n",
    "mape = np.mean(np.abs((test_target - predictions) / test_target)) * 100.0\n",
    "\n",
    "print(\"MAPE: %.2f%%\" % mape)\n"
   ]
  }
 ],
 "metadata": {
  "kernelspec": {
   "display_name": "hdalitz2",
   "language": "python",
   "name": "python3"
  },
  "language_info": {
   "codemirror_mode": {
    "name": "ipython",
    "version": 3
   },
   "file_extension": ".py",
   "mimetype": "text/x-python",
   "name": "python",
   "nbconvert_exporter": "python",
   "pygments_lexer": "ipython3",
   "version": "3.8.13"
  },
  "orig_nbformat": 4
 },
 "nbformat": 4,
 "nbformat_minor": 2
}
