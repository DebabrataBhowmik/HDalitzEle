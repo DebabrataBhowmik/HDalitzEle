{
 "cells": [
  {
   "cell_type": "code",
   "execution_count": 1,
   "id": "cd96fb26-bec7-4765-a7d7-bb6703c4e031",
   "metadata": {},
   "outputs": [
    {
     "name": "stdout",
     "output_type": "stream",
     "text": [
      "Welcome to JupyROOT 6.24/06\n"
     ]
    }
   ],
   "source": [
    "import ROOT"
   ]
  },
  {
   "cell_type": "code",
   "execution_count": null,
   "id": "f233c440-ddad-42f4-8d15-e638898552d7",
   "metadata": {},
   "outputs": [],
   "source": []
  },
  {
   "cell_type": "code",
   "execution_count": 2,
   "id": "f886b7a5-1c06-40df-8853-ddf96f9a43b2",
   "metadata": {},
   "outputs": [
    {
     "name": "stdout",
     "output_type": "stream",
     "text": [
      "CPU times: user 3 s, sys: 548 ms, total: 3.54 s\n",
      "Wall time: 3.54 s\n"
     ]
    },
    {
     "data": {
      "text/plain": [
       "0"
      ]
     },
     "execution_count": 2,
     "metadata": {},
     "output_type": "execute_result"
    }
   ],
   "source": [
    "%%time\n",
    "ROOT.gInterpreter.ProcessLine(\"\"\"\n",
    "    #pragma cling optimize(3)\n",
    "    \n",
    "    ROOT::RVec<double> v(100000000);\n",
    "    for (size_t i = 0; i < v.size(); i++){\n",
    "        v[i] = gRandom->Rndm();\n",
    "    }\n",
    "\"\"\")"
   ]
  },
  {
   "cell_type": "code",
   "execution_count": 3,
   "id": "27107924-e425-4c74-866e-ace9c3e32cfa",
   "metadata": {},
   "outputs": [
    {
     "name": "stdout",
     "output_type": "stream",
     "text": [
      "CPU times: user 1.54 s, sys: 140 ms, total: 1.68 s\n",
      "Wall time: 1.67 s\n"
     ]
    },
    {
     "data": {
      "text/plain": [
       "140250496543648"
      ]
     },
     "execution_count": 3,
     "metadata": {},
     "output_type": "execute_result"
    },
    {
     "name": "stdout",
     "output_type": "stream",
     "text": [
      "0.288676\n"
     ]
    }
   ],
   "source": [
    "%%time\n",
    "ROOT.gInterpreter.ProcessLine(\"\"\"\n",
    "    #pragma cling optimize(3)\n",
    "    \n",
    "    cout << ROOT::VecOps::StdDev(v) << endl;\n",
    "\"\"\")"
   ]
  },
  {
   "cell_type": "code",
   "execution_count": 4,
   "id": "e491c9d7-de1e-4404-ae92-209c3458185f",
   "metadata": {},
   "outputs": [
    {
     "name": "stdout",
     "output_type": "stream",
     "text": [
      "CPU times: user 2.77 s, sys: 353 ms, total: 3.12 s\n",
      "Wall time: 3.1 s\n"
     ]
    },
    {
     "data": {
      "text/plain": [
       "140250496543648"
      ]
     },
     "execution_count": 4,
     "metadata": {},
     "output_type": "execute_result"
    },
    {
     "name": "stdout",
     "output_type": "stream",
     "text": [
      "0.288676\n"
     ]
    }
   ],
   "source": [
    "%%time\n",
    "ROOT.gInterpreter.ProcessLine(\"\"\"\n",
    "    #pragma cling optimize(3)\n",
    "    \n",
    "    cout << TMath::RMS(v.begin(), v.end()) << endl;\n",
    "\"\"\")"
   ]
  },
  {
   "cell_type": "code",
   "execution_count": 5,
   "id": "c72c520b-e399-4629-bc25-a21a595134bc",
   "metadata": {},
   "outputs": [
    {
     "name": "stdout",
     "output_type": "stream",
     "text": [
      "CPU times: user 1.23 s, sys: 16.7 ms, total: 1.25 s\n",
      "Wall time: 1.24 s\n"
     ]
    },
    {
     "data": {
      "text/plain": [
       "140250496543648"
      ]
     },
     "execution_count": 5,
     "metadata": {},
     "output_type": "execute_result"
    },
    {
     "name": "stdout",
     "output_type": "stream",
     "text": [
      "0.500029\n"
     ]
    }
   ],
   "source": [
    "%%time\n",
    "ROOT.gInterpreter.ProcessLine(\"\"\"\n",
    "    #pragma cling optimize(3)\n",
    "    cout << ROOT::VecOps::Mean(v) << endl;\n",
    "\"\"\")"
   ]
  },
  {
   "cell_type": "code",
   "execution_count": 6,
   "id": "88d59e4c-43f2-4711-a24b-cc6cd1b8615e",
   "metadata": {},
   "outputs": [
    {
     "name": "stdout",
     "output_type": "stream",
     "text": [
      "CPU times: user 1.59 s, sys: 19.7 ms, total: 1.6 s\n",
      "Wall time: 1.59 s\n"
     ]
    },
    {
     "data": {
      "text/plain": [
       "140250496543648"
      ]
     },
     "execution_count": 6,
     "metadata": {},
     "output_type": "execute_result"
    },
    {
     "name": "stdout",
     "output_type": "stream",
     "text": [
      "0.500029\n"
     ]
    }
   ],
   "source": [
    "%%time\n",
    "ROOT.gInterpreter.ProcessLine(\"\"\"\n",
    "    #pragma cling optimize(3)\n",
    "    cout << TMath::Mean(v.begin(), v.end()) << endl;\n",
    "\"\"\")"
   ]
  },
  {
   "cell_type": "code",
   "execution_count": null,
   "id": "4ecbed3b-494d-4b44-ae80-d1db3098374c",
   "metadata": {},
   "outputs": [],
   "source": []
  }
 ],
 "metadata": {
  "kernelspec": {
   "display_name": "RAPIDS AI",
   "language": "python",
   "name": "rapids"
  },
  "language_info": {
   "codemirror_mode": {
    "name": "ipython",
    "version": 3
   },
   "file_extension": ".py",
   "mimetype": "text/x-python",
   "name": "python",
   "nbconvert_exporter": "python",
   "pygments_lexer": "ipython3",
   "version": "3.8.13"
  }
 },
 "nbformat": 4,
 "nbformat_minor": 5
}
