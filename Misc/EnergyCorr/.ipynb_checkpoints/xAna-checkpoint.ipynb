{
 "cells": [
  {
   "cell_type": "code",
   "execution_count": 1,
   "id": "a3df0ffd-c93d-4961-a97b-aaa5086381f0",
   "metadata": {},
   "outputs": [
    {
     "name": "stdout",
     "output_type": "stream",
     "text": [
      "Welcome to JupyROOT 6.24/02\n"
     ]
    }
   ],
   "source": [
    "import ROOT \n",
    "import os, sys"
   ]
  },
  {
   "cell_type": "code",
   "execution_count": 2,
   "id": "d177aef6-e438-4394-b5a6-8cd0105530f1",
   "metadata": {},
   "outputs": [
    {
     "data": {
      "text/plain": [
       "True"
      ]
     },
     "execution_count": 2,
     "metadata": {},
     "output_type": "execute_result"
    }
   ],
   "source": [
    "ROOT.gInterpreter.Declare(\"\"\"\n",
    "auto MuTypeVector(ROOT::RVec<int>& muType, int num){\n",
    "    ROOT::RVec<int> vec;\n",
    "    vec.clear();\n",
    "    const auto size = muType.size();\n",
    "    for (auto i = 0; i < size; ++i) {\n",
    "        if ((muType[i] >> num & 1) == 1) \n",
    "            vec.push_back(1);\n",
    "        else \n",
    "            vec.push_back(0);\n",
    "    }\n",
    "    return vec;\n",
    "}\n",
    "\"\"\")\n",
    "\n",
    "ROOT.gInterpreter.Declare(\"\"\"\n",
    "auto NoneZeroIso03(ROOT::RVec<float>& muPFChIso03, ROOT::RVec<float>& muPFNeuIso03, ROOT::RVec<float>& muPFPhoIso03, ROOT::RVec<float>& muPFPUIso03){\n",
    "    ROOT::RVec<float> vec;\n",
    "    vec.clear();\n",
    "    const auto size = muPFChIso03.size();\n",
    "    for (auto i = 0; i < size; ++i) {\n",
    "            vec.push_back(muPFChIso03[i] + TMath::Max(0., muPFNeuIso03[i] + muPFPhoIso03[i] - 0.5*muPFPUIso03[i]));\n",
    "    }\n",
    "    return vec;\n",
    "}\n",
    "\"\"\")\n",
    "\n",
    "ROOT.gInterpreter.Declare(\"\"\"\n",
    "using VecF_t = const ROOT::RVec<float>&;\n",
    "using VecI_t = const ROOT::RVec<int>&;\n",
    "auto HggPreSelection(float rhoAll, int nEle, VecF_t eleSCEta, int nPho, VecF_t phoSCEta, VecF_t phoPFChIso, VecF_t phoPFPhoIso, VecF_t phoTrkIsoHollowConeDR03, VecF_t phoR9Full5x5, VecF_t phoCalibEt, VecF_t phoSigmaIEtaIEtaFull5x5, VecF_t phoHoverE){\n",
    "\n",
    "    ROOT::RVec<int> vec;\n",
    "    vec.clear();\n",
    "    for (int ele_ind = 0; ele_ind < nEle; ele_ind++){\n",
    "        \n",
    "        int isHgg = 0;\n",
    "        int pho_ind = -1;\n",
    "        int ele_passInd = 999;\n",
    "        for (int i = 0; i < nPho; i++){\n",
    "            if (fabs(phoSCEta[i] - eleSCEta[ele_ind]) < 0.0001){\n",
    "                pho_ind = i;\n",
    "                break;\n",
    "            }\n",
    "        }\n",
    "        \n",
    "        if (pho_ind != -1){\n",
    "            float corr = 0; \n",
    "            if (phoSCEta[pho_ind] > 0. && phoSCEta[pho_ind] <= 1.5) corr = 0.16544;\n",
    "            else if (phoSCEta[pho_ind] > 1.5 && phoSCEta[pho_ind] <= 3.) corr = 0.13212;\n",
    "\n",
    "            float phoPFChIso_corr = phoPFChIso[pho_ind] - rhoAll * corr;\n",
    "            float phoPFPhoIso_corr = phoPFPhoIso[pho_ind] - rhoAll * corr;\n",
    "            float phoTrkIsoHollowConeDR03_corr = phoTrkIsoHollowConeDR03[pho_ind] - rhoAll * corr;\n",
    "\n",
    "            bool isEB = (fabs(phoSCEta[pho_ind]) < 1.4442);\n",
    "            bool isEE = (fabs(phoSCEta[pho_ind]) > 1.566 && fabs(phoSCEta[pho_ind]) < 2.5);\n",
    "\n",
    "            bool isAOD = (phoR9Full5x5[pho_ind] > 0.8 && phoPFChIso_corr < 20.) || (phoPFChIso_corr/phoCalibEt[pho_ind] < 0.3);\n",
    "\n",
    "            // region\n",
    "            bool isHR9_EB = phoR9Full5x5[pho_ind] > 0.85 && isEB;\n",
    "            bool isLR9_EB = phoR9Full5x5[pho_ind] <= 0.85 && phoR9Full5x5[pho_ind] >= 0.5 && isEB;\n",
    "            bool isHR9_EE = phoR9Full5x5[pho_ind] > 0.9 && isEE;\n",
    "            bool isLR9_EE = phoR9Full5x5[pho_ind] <= 0.9 && phoR9Full5x5[pho_ind] >= 0.8 && isEE;\n",
    "\n",
    "\n",
    "            if (isAOD){\n",
    "                if (isLR9_EB){\n",
    "                    if (phoHoverE[pho_ind] < 0.08 && phoSigmaIEtaIEtaFull5x5[pho_ind] < 0.015 && phoPFPhoIso_corr < 4. && phoTrkIsoHollowConeDR03_corr < 6.){\n",
    "                        isHgg = 1;\n",
    "                    }\n",
    "                }\n",
    "                if (isHR9_EB){\n",
    "                    if (phoHoverE[pho_ind] < 0.08) isHgg = 1;\n",
    "                }\n",
    "                if (isLR9_EE){\n",
    "                    if (phoHoverE[pho_ind] < 0.08 && phoSigmaIEtaIEtaFull5x5[pho_ind] < 0.035 && phoPFPhoIso_corr < 4. && phoTrkIsoHollowConeDR03_corr < 6.){\n",
    "                        isHgg = 1;\n",
    "                    }\n",
    "                }\n",
    "                if (isHR9_EE){\n",
    "                    if (phoHoverE[pho_ind] < 0.08) isHgg = 1;\n",
    "                }\n",
    "            }\n",
    "        }\n",
    "        \n",
    "        vec.push_back(isHgg);\n",
    "    }\n",
    "    \n",
    "    return vec;\n",
    "}\n",
    "\"\"\")"
   ]
  },
  {
   "cell_type": "code",
   "execution_count": 3,
   "id": "c350206d-18dc-46f8-b606-44a1f5dda9bc",
   "metadata": {},
   "outputs": [],
   "source": [
    "# ncpus = os.cpu_count() - 2\n",
    "# ROOT.EnableImplicitMT(ncpus)\n",
    "f = [\n",
    "    \"/data4/chenghan/mc/V10_02_10_07/job_fall17_ZZ/skim.root\",\n",
    "    \"/data4/chenghan/mc/V10_02_10_07/job_autumn18_ZZ/skim.root\",\n",
    "    \"/data4/chenghan/mc/V10_02_10_07/job_summer16_ZZ//skim.root\"\n",
    "] \n",
    "df = ROOT.RDataFrame(\"ggNtuplizer/EventTree\", f)"
   ]
  },
  {
   "cell_type": "code",
   "execution_count": 4,
   "id": "7c631199-357b-4cab-b66a-9f354cfb3fe8",
   "metadata": {},
   "outputs": [
    {
     "name": "stdout",
     "output_type": "stream",
     "text": [
      "ROOT::VecOps::RVec<int>\n",
      "isGoodMuon | ZmumuMass | rdfentry_ | \n",
      "1          | 90.071599 | 0         | \n",
      "1          |           |           | \n",
      "1          | 83.092092 | 2         | \n",
      "1          |           |           | \n",
      "1          | 94.073495 | 4         | \n",
      "...        |           |           | \n",
      "1          |           |           | \n",
      "1          | 92.445828 | 5         | \n",
      "1          |           |           | \n",
      "1          | 94.353480 | 6         | \n",
      "...        |           |           | \n",
      "0          |           |           | \n",
      "HZZID selection: pass=80051      all=94398      -- eff=84.80 % cumulative eff=84.80 %\n",
      "HLT threshold: pass=77905      all=80051      -- eff=97.32 % cumulative eff=82.53 %\n",
      "Opposite charge: pass=77063      all=77905      -- eff=98.92 % cumulative eff=81.64 %\n"
     ]
    }
   ],
   "source": [
    "# muon types are defined here: CMSSW/DataFormats/MuonReco/interface/Muon.h\n",
    "# namely: GlobalMuon     = 1<<1\n",
    "#         TrackerMuon    = 1<<2\n",
    "#         StandAloneMuon = 1<<3\n",
    "#         CaloMuon       = 1<<4\n",
    "#         PFMuon         = 1<<5\n",
    "#         RPCMuon        = 1<<6\n",
    "\n",
    "print(df.GetColumnType(\"muType\"))\n",
    "\n",
    "df = df.Define(\"isGlobalMuon\", \"MuTypeVector(muType, 1)\")\n",
    "df = df.Define(\"isTrackerMuon\", \"MuTypeVector(muType, 2)\")\n",
    "df = df.Define(\"isPFMuon\", \"MuTypeVector(muType, 5)\")\n",
    "df = df.Define(\"isTrkHighPtMuon\", \"isTrackerMuon && muStations > 1 && muPixelHits > 0 && muTrkLayers > 5 && abs(muD0) < 0.2 && abs(muDz) < 0.5 && (muBestTrkPtError / muBestTrkPt < 0.3)\")\n",
    "\n",
    "# muon selection\n",
    "df = df.Define(\"isHZZLooseMuon\", \"muPt < 200 && muSIP < 4 && abs(muD0) < 0.5 && abs(muDz) < 1 && muBestTrkType != 2 && (isGlobalMuon ||(isTrackerMuon && muStations > 0))\")\n",
    "df = df.Define(\"isHZZTightMuon\", \"muPt >= 200 && isHZZLooseMuon && (isPFMuon || isTrkHighPtMuon)\")\n",
    "df = df.Define(\"muIso03\", \"NoneZeroIso03(muPFChIso03, muPFNeuIso03, muPFPhoIso03, muPFPUIso03)\")\n",
    "df = df.Define(\"isHZZIsoMuon\", \"(muIso03/muPt) < 0.35\")\n",
    "df = df.Define(\"isGoodMuon\", \"muPt > 4 && abs(muEta) < 2.4 && (isHZZLooseMuon || isHZZTightMuon) && isHZZIsoMuon\")\n",
    "\n",
    "df = df.Filter(\"Sum(isGoodMuon) > 1\", \"HZZID selection\")\n",
    "df = df.Filter(\"muPt[isGoodMuon][0] > 20 && muPt[isGoodMuon][1] > 10\", \"HLT threshold\")\n",
    "df = df.Filter(\"(muCharge[isGoodMuon][0] * muCharge[isGoodMuon][1]) < 0\", \"Opposite charge\")\n",
    "\n",
    "df = df.Define(\"mu1\", \"TLorentzVector v; v.SetPtEtaPhiM(muPt[isGoodMuon][0], muEta[isGoodMuon][0], muPhi[isGoodMuon][0], 105.658*0.001); return v;\")\n",
    "df = df.Define(\"mu2\", \"TLorentzVector v; v.SetPtEtaPhiM(muPt[isGoodMuon][1], muEta[isGoodMuon][1], muPhi[isGoodMuon][1], 105.658*0.001); return v;\")\n",
    "df = df.Define(\"Zmumu\", \"mu1 + mu2\")\n",
    "df = df.Define(\"ZmumuMass\", \"Zmumu.M()\")\n",
    "df = df.Define(\"ZmumuPt\", \"Zmumu.Pt()\")\n",
    "df = df.Define(\"dR_mumu\", \"mu1.DeltaR(mu2)\")\n",
    "\n",
    "# df = df.Filter(\"dR_mumu < 0.4\", \"boost z\")\n",
    "\n",
    "df.Display({\"rdfentry_\", \"isGoodMuon\", \"ZmumuMass\"}).Print()\n",
    "df.Report().Print()"
   ]
  },
  {
   "cell_type": "code",
   "execution_count": 5,
   "id": "c4aa3491-12aa-46dc-94d4-f1817695c141",
   "metadata": {},
   "outputs": [
    {
     "name": "stdout",
     "output_type": "stream",
     "text": [
      "2571.2844483187246\n",
      " OBJ: TStatistic\t  \t Mean = 88.686 +- 0.08395 \t RMS = 22.838 \t Count = 77063 \t Min = 0.36093 \t Max = 562.92\n",
      " OBJ: TStatistic\t  \t Mean = 64.258 +- 0.1676 \t RMS = 45.603 \t Count = 77063 \t Min = 0.19989 \t Max = 381.7\n"
     ]
    },
    {
     "data": {
      "image/png": "[encoded data removed]",
      "text/plain": [
       "<IPython.core.display.Image object>"
      ]
     },
     "metadata": {},
     "output_type": "display_data"
    }
   ],
   "source": [
    "print(df.Stats(\"ZmumuMass\", \"wei\").GetW())\n",
    "\n",
    "ROOT.gStyle.SetPadTickX(1)\n",
    "ROOT.gStyle.SetPadTickY(1)\n",
    "\n",
    "c1 = ROOT.TCanvas(\"c1\", \"\", 1000, 500)\n",
    "c1.Divide(2)\n",
    "\n",
    "c1.cd(1)\n",
    "df.Stats(\"ZmumuMass\", \"mcwei\").Print()\n",
    "h1 = df.Histo1D((\"h1\", \" \", 60, 60, 120), \"ZmumuMass\", \"wei\")\n",
    "h1.GetXaxis().SetTitle(\"M_{#mu#mu} [GeV]\")\n",
    "h1.GetYaxis().SetTitle(\"Events / 1GeV\")\n",
    "h1.SetFillColor(ROOT.TColor.GetColor(248, 206, 104))\n",
    "h1.SetLineColor(ROOT.TColor.GetColor(248, 206, 104))\n",
    "h1.Draw(\"hist\")\n",
    "\n",
    "c1.cd(2)\n",
    "df.Stats(\"ZmumuPt\", \"mcwei\").Print()\n",
    "h2 = df.Histo1D((\"h2\", \" \", 50, 0, 200), \"ZmumuPt\", \"wei\")\n",
    "h2.GetXaxis().SetTitle(\"P_{T}^{#mu#mu} [GeV]\")\n",
    "h2.GetYaxis().SetTitle(\"Events / 4GeV\")\n",
    "h2.SetFillColor(ROOT.TColor.GetColor(248, 206, 104))\n",
    "h2.SetLineColor(ROOT.TColor.GetColor(248, 206, 104))\n",
    "h2.Draw(\"hist\")\n",
    "\n",
    "c1.Draw()"
   ]
  },
  {
   "cell_type": "code",
   "execution_count": 6,
   "id": "3e225f23-f895-4b19-aeb1-51cb600df17f",
   "metadata": {},
   "outputs": [
    {
     "name": "stdout",
     "output_type": "stream",
     "text": [
      " OBJ: TStatistic\t  \t Mean = 2.3727 +- 0.002763 \t RMS = 0.70913 \t Count = 77063 \t Min = 0.0047279 \t Max = 5.0117\n"
     ]
    },
    {
     "name": "stderr",
     "output_type": "stream",
     "text": [
      "Warning in <TCanvas::Constructor>: Deleting canvas with same name: c1\n"
     ]
    },
    {
     "data": {
      "image/png": "[encoded data removed]",
      "text/plain": [
       "<IPython.core.display.Image object>"
      ]
     },
     "metadata": {},
     "output_type": "display_data"
    }
   ],
   "source": [
    "c1 = ROOT.TCanvas(\"c1\", \"\", 500, 500)\n",
    "df.Stats(\"dR_mumu\", \"wei\").Print()\n",
    "h2 = df.Histo1D((\"h2\", \" \", 50, 0, 5), \"dR_mumu\", \"wei\")\n",
    "h2.GetXaxis().SetTitle(\"#DeltaR(#mu1, #mu2)\")\n",
    "h2.GetYaxis().SetTitle(\"Events\")\n",
    "h2.SetFillColor(ROOT.TColor.GetColor(248, 206, 104))\n",
    "h2.SetLineColor(ROOT.TColor.GetColor(248, 206, 104))\n",
    "h2.Draw(\"hist\")\n",
    "c1.Draw()"
   ]
  },
  {
   "cell_type": "code",
   "execution_count": 7,
   "id": "5db9eb87-8362-4197-91d9-3155ff505812",
   "metadata": {},
   "outputs": [
    {
     "name": "stdout",
     "output_type": "stream",
     "text": [
      "rdfentry_ | eleCalibPt | isHggElectron | isGoodEle | \n",
      "85        | 43.1488f   | 1             | 1         | \n",
      "          | ...        | ...           | ...       | \n",
      "          | 2.29744f   | 0             | 0         | \n",
      "119       | 76.8251f   | 1             | 0         | \n",
      "          | 29.1032f   | 1             | 1         | \n",
      "190       | 52.0575f   | 1             | 1         | \n",
      "          | 50.1503f   | 1             | 1         | \n",
      "199       | 95.2010f   | 1             | 1         | \n",
      "          | ...        | ...           | ...       | \n",
      "          | 17.2458f   | 0             | 0         | \n",
      "211       | 146.601f   | 1             | 1         | \n",
      "          | 25.0199f   | 1             | 0         | \n",
      "HZZID selection: pass=80051      all=94398      -- eff=84.80 % cumulative eff=84.80 %\n",
      "HLT threshold: pass=77905      all=80051      -- eff=97.32 % cumulative eff=82.53 %\n",
      "Opposite charge: pass=77063      all=77905      -- eff=98.92 % cumulative eff=81.64 %\n",
      "ele selection: pass=1621       all=77063      -- eff=2.10 % cumulative eff=1.72 %\n"
     ]
    }
   ],
   "source": [
    "df1 = df.Define(\"isM1Ele\", \"eleClass == 1\")\n",
    "# electron selection\n",
    "\n",
    "df1 = df1.Define(\"isHggElectron\", \"HggPreSelection(rhoAll, nEle, eleSCEta, nPho, phoSCEta, phoPFChIso, phoPFPhoIso, phoTrkIsoHollowConeDR03, phoR9Full5x5, phoCalibEt, phoSigmaIEtaIEtaFull5x5, phoHoverE)\")\n",
    "df1 = df1.Define(\"isGoodEle_EB\", \"isHggElectron && isM1Ele && eleCalibPt > 7. && abs(eleSCEta) < 1.4442 && eleEcalDrivenSeed == 1\")\n",
    "df1 = df1.Define(\"isGoodEle_EE\", \"isHggElectron && isM1Ele && eleCalibPt > 7. && abs(eleSCEta) > 1.566 && abs(eleSCEta) < 2.5 && eleEcalDrivenSeed == 1\")\n",
    "df1 = df1.Define(\"isGoodEle\", \"isGoodEle_EB || isGoodEle_EE\")\n",
    "df1 = df1.Filter(\"Sum(isGoodEle) > 0\", \"ele selection\")\n",
    "\n",
    "df1 = df1.Define(\"ele1\", \"TLorentzVector v; v.SetPtEtaPhiM(eleCalibPt[isGoodEle][0], eleEta[isGoodEle][0], elePhi[isGoodEle][0], 0.511*0.001); return v;\")\n",
    "df1 = df1.Define(\"ele1Pt\", \"ele1.Pt()\")\n",
    "df1 = df1.Define(\"ele1mumuPt\", \"ele1Pt/ZmumuPt\")\n",
    "df1 = df1.Define(\"dR_ele1mu1\", \"ele1.DeltaR(mu1)\")\n",
    "df1 = df1.Define(\"dR_ele1mu2\", \"ele1.DeltaR(mu2)\")\n",
    "\n",
    "df1.Display({\"eleCalibPt\",\"isGoodEle\", \"isHggElectron\", \"rdfentry_\"}).Print()\n",
    "df1.Report().Print()"
   ]
  },
  {
   "cell_type": "code",
   "execution_count": 22,
   "id": "50bb5208-c6b2-475e-ad41-788f1ab698fe",
   "metadata": {},
   "outputs": [
    {
     "name": "stdout",
     "output_type": "stream",
     "text": [
      "56.576378193111836\n",
      " OBJ: TStatistic\t  \t Mean = 66.94 +- 1.138 \t RMS = 44.884 \t Count = 1621 \t Min = 13.431 \t Max = 367.33\n",
      " OBJ: TStatistic\t  \t Mean = 1.438 +- 0.1038 \t RMS = 4.0921 \t Count = 1621 \t Min = 0.085362 \t Max = 143.2\n"
     ]
    },
    {
     "name": "stderr",
     "output_type": "stream",
     "text": [
      "Warning in <TCanvas::Constructor>: Deleting canvas with same name: c2\n"
     ]
    },
    {
     "data": {
      "image/png": "[encoded data removed]",
      "text/plain": [
       "<IPython.core.display.Image object>"
      ]
     },
     "metadata": {},
     "output_type": "display_data"
    }
   ],
   "source": [
    "print(df1.Stats(\"ele1Pt\", \"wei\").GetW())\n",
    "\n",
    "ROOT.gStyle.SetPadTickX(1)\n",
    "ROOT.gStyle.SetPadTickY(1)\n",
    "\n",
    "c2 = ROOT.TCanvas(\"c2\", \"\", 1000, 500)\n",
    "c2.Divide(2)\n",
    "\n",
    "c2.cd(1)\n",
    "df1.Stats(\"ele1Pt\", \"mcwei\").Print()\n",
    "h3 = df1.Histo1D((\"h3\", \" \", 25, 0, 200), \"ele1Pt\", \"wei\")\n",
    "h3.GetXaxis().SetTitle(\"P_{T}^{e} [GeV]\")\n",
    "h3.GetYaxis().SetTitle(\"Events / 5GeV\")\n",
    "h3.SetFillColor(ROOT.TColor.GetColor(248, 206, 104))\n",
    "h3.SetLineColor(ROOT.TColor.GetColor(248, 206, 104))\n",
    "h3.Draw(\"hist\")\n",
    "\n",
    "c2.cd(2)\n",
    "df1.Stats(\"ele1mumuPt\", \"mcwei\").Print()\n",
    "h4 = df1.Histo1D((\"h4\", \" \", 40, 0, 4), \"ele1mumuPt\", \"wei\")\n",
    "h4.GetXaxis().SetTitle(\"P_{T}^{e} / P_{T}^{#mu#mu}\")\n",
    "h4.GetYaxis().SetTitle(\"Events\")\n",
    "h4.SetFillColor(ROOT.TColor.GetColor(248, 206, 104))\n",
    "h4.SetLineColor(ROOT.TColor.GetColor(248, 206, 104))\n",
    "h4.Draw(\"hist\")\n",
    "\n",
    "c2.Draw()"
   ]
  },
  {
   "cell_type": "code",
   "execution_count": 9,
   "id": "735b6661-babb-47a3-8dcf-29ba33351a8a",
   "metadata": {},
   "outputs": [
    {
     "name": "stdout",
     "output_type": "stream",
     "text": [
      " OBJ: TStatistic\t  \t Mean = 2.5309 +- 0.02292 \t RMS = 0.86666 \t Count = 1621 \t Min = 0.00015101 \t Max = 5.3798\n",
      " OBJ: TStatistic\t  \t Mean = 2.139 +- 0.02343 \t RMS = 0.88617 \t Count = 1621 \t Min = 0.0035338 \t Max = 4.8033\n"
     ]
    },
    {
     "name": "stderr",
     "output_type": "stream",
     "text": [
      "Warning in <TCanvas::Constructor>: Deleting canvas with same name: c2\n"
     ]
    },
    {
     "data": {
      "image/png": "[encoded data removed]",
      "text/plain": [
       "<IPython.core.display.Image object>"
      ]
     },
     "metadata": {},
     "output_type": "display_data"
    }
   ],
   "source": [
    "c2 = ROOT.TCanvas(\"c2\", \"\", 1000, 500)\n",
    "c2.Divide(2)\n",
    "\n",
    "c2.cd(1)\n",
    "df1.Stats(\"dR_ele1mu1\", \"wei\").Print()\n",
    "h3 = df1.Histo1D((\"h3\", \" \", 50, 0, 4), \"dR_ele1mu1\", \"wei\")\n",
    "h3.GetXaxis().SetTitle(\"#DeltaR(e, #mu1)\")\n",
    "h3.GetYaxis().SetTitle(\"Events\")\n",
    "h3.SetFillColor(ROOT.TColor.GetColor(248, 206, 104))\n",
    "h3.SetLineColor(ROOT.TColor.GetColor(248, 206, 104))\n",
    "h3.Draw(\"hist\")\n",
    "\n",
    "c2.cd(2)\n",
    "df1.Stats(\"dR_ele1mu2\", \"wei\").Print()\n",
    "h4 = df1.Histo1D((\"h4\", \" \", 40, 0, 4), \"dR_ele1mu2\", \"wei\")\n",
    "h4.GetXaxis().SetTitle(\"#DeltaR(e, #mu2)\")\n",
    "h4.GetYaxis().SetTitle(\"Events\")\n",
    "h4.SetFillColor(ROOT.TColor.GetColor(248, 206, 104))\n",
    "h4.SetLineColor(ROOT.TColor.GetColor(248, 206, 104))\n",
    "h4.Draw(\"hist\")\n",
    "\n",
    "c2.Draw()"
   ]
  },
  {
   "cell_type": "code",
   "execution_count": 10,
   "id": "25bd558b-ad7c-489a-92e9-01215ae09ff2",
   "metadata": {},
   "outputs": [
    {
     "name": "stdout",
     "output_type": "stream",
     "text": [
      " OBJ: TStatistic\t  \t Mean = 88.696 +- 0.08937 \t RMS = 22.941 \t Count = 77063 \t Min = 0.36093 \t Max = 562.92\n",
      " OBJ: TStatistic\t  \t Mean = 64.337 +- 0.1778 \t RMS = 45.638 \t Count = 77063 \t Min = 0.19989 \t Max = 381.7\n"
     ]
    },
    {
     "name": "stderr",
     "output_type": "stream",
     "text": [
      "Warning in <TCanvas::Constructor>: Deleting canvas with same name: c1\n"
     ]
    },
    {
     "data": {
      "image/png": "[encoded data removed]",
      "text/plain": [
       "<IPython.core.display.Image object>"
      ]
     },
     "metadata": {},
     "output_type": "display_data"
    }
   ],
   "source": [
    "c1 = ROOT.TCanvas(\"c1\", \"\", 1000, 500)\n",
    "c1.Divide(2)\n",
    "\n",
    "c1.cd(1)\n",
    "df.Stats(\"ZmumuMass\", \"wei\").Print()\n",
    "h1 = df1.Histo1D((\"h1\", \" \", 60, 60, 120), \"ZmumuMass\", \"wei\")\n",
    "h1.GetXaxis().SetTitle(\"M_{#mu#mu} [GeV]\")\n",
    "h1.GetYaxis().SetTitle(\"Events / 1GeV\")\n",
    "h1.SetFillColor(ROOT.TColor.GetColor(248, 206, 104))\n",
    "h1.SetLineColor(ROOT.TColor.GetColor(248, 206, 104))\n",
    "h1.Draw(\"hist\")\n",
    "\n",
    "c1.cd(2)\n",
    "df.Stats(\"ZmumuPt\", \"wei\").Print()\n",
    "h2 = df1.Histo1D((\"h2\", \" \", 50, 0, 200), \"ZmumuPt\", \"wei\")\n",
    "h2.GetXaxis().SetTitle(\"P_{T}^{#mu#mu} [GeV]\")\n",
    "h2.GetYaxis().SetTitle(\"Events / 4GeV\")\n",
    "h2.SetFillColor(ROOT.TColor.GetColor(248, 206, 104))\n",
    "h2.SetLineColor(ROOT.TColor.GetColor(248, 206, 104))\n",
    "h2.Draw(\"hist\")\n",
    "\n",
    "c1.Draw()"
   ]
  },
  {
   "cell_type": "code",
   "execution_count": 11,
   "id": "22a1820a-237f-4296-ade3-71378800c218",
   "metadata": {},
   "outputs": [],
   "source": [
    "%%cpp -d \n",
    "int GenMatchInd(TLorentzVector reco, int nMC, ROOT::RVec<float>& mcPt, ROOT::RVec<float>& mcEta, ROOT::RVec<float>& mcPhi, ROOT::RVec<float>& mcMass){\n",
    "    \n",
    "    float tmpRat = 999.;\n",
    "    int tmpInd = -1;\n",
    "    \n",
    "    TLorentzVector gen;\n",
    "    for (int i = 0; i < nMC; i++){\n",
    "        gen.SetPtEtaPhiM(mcPt[i], mcEta[i], mcPhi[i], mcMass[i]);\n",
    "        \n",
    "        if (gen.DeltaR(reco) > 0.1) continue;\n",
    "        if (fabs((gen.Pt() / reco.Pt()) - 1.) < tmpRat){\n",
    "            tmpRat = fabs((gen.Pt() / reco.Pt()) - 1.);\n",
    "            tmpInd = i;\n",
    "            continue;\n",
    "        }\n",
    "        else continue;\n",
    "    }\n",
    "    \n",
    "    return tmpInd;\n",
    "}"
   ]
  },
  {
   "cell_type": "code",
   "execution_count": 12,
   "id": "a8502915-6a2e-4ac8-a251-037566c594ce",
   "metadata": {},
   "outputs": [
    {
     "name": "stdout",
     "output_type": "stream",
     "text": [
      "genInd_ele1 | rdfentry_ | \n",
      "6           | 85        | \n",
      "4           | 119       | \n",
      "6           | 190       | \n",
      "4           | 199       | \n",
      "5           | 211       | \n"
     ]
    }
   ],
   "source": [
    "df1 = df1.Define(\"genInd_ele1\", \"GenMatchInd(ele1, nMC, mcPt, mcEta, mcPhi, mcMass)\")\n",
    "df1.Display({\"genInd_ele1\", \"rdfentry_\"}).Print()"
   ]
  },
  {
   "cell_type": "code",
   "execution_count": 13,
   "id": "331fe63a-eee7-450a-91ac-a1bdebc61dfe",
   "metadata": {},
   "outputs": [
    {
     "name": "stdout",
     "output_type": "stream",
     "text": [
      "ROOT::VecOps::RVec<unsigned short>\n"
     ]
    }
   ],
   "source": [
    "print(df1.GetColumnType(\"mcStatusFlag\"))"
   ]
  },
  {
   "cell_type": "code",
   "execution_count": 14,
   "id": "c5ce3db2-baa6-4c1d-8ea1-05a021d6c54c",
   "metadata": {},
   "outputs": [],
   "source": [
    "%%cpp -d \n",
    "int GenShift(unsigned short mcStatusFlag, int num){\n",
    "    int tmp = 0;    \n",
    "    if ((mcStatusFlag >> num & 1) == 1) \n",
    "            tmp = 1;\n",
    "    \n",
    "    return tmp;\n",
    "}"
   ]
  },
  {
   "cell_type": "code",
   "execution_count": 15,
   "id": "e66b9e1b-8196-497a-8d57-60e278fbfcdc",
   "metadata": {},
   "outputs": [],
   "source": [
    "df1 = df1.Define(\"isTrueEle\", \"abs(mcPID[genInd_ele1]) == 11 && abs(mcMomPID[genInd_ele1]) == 23 && GenShift(mcStatusFlag[genInd_ele1], 0) == 1 && GenShift(mcStatusFlag[genInd_ele1], 1) == 1\")"
   ]
  },
  {
   "cell_type": "code",
   "execution_count": 16,
   "id": "1bf82769-1f6c-404c-96b8-9bdb5a277f68",
   "metadata": {},
   "outputs": [
    {
     "name": "stdout",
     "output_type": "stream",
     "text": [
      "56.576378193111836\n",
      "46.66413653783525\n",
      "9.912241655276635\n"
     ]
    }
   ],
   "source": [
    "print(df1.Stats(\"ele1Pt\", \"wei\").GetW())\n",
    "print(df1.Filter(\"isTrueEle == 1\", \"true\").Stats(\"ele1Pt\", \"wei\").GetW())\n",
    "print(df1.Filter(\"isTrueEle == 0\", \"fake\").Stats(\"ele1Pt\", \"wei\").GetW())"
   ]
  },
  {
   "cell_type": "code",
   "execution_count": 17,
   "id": "e3fab4e7-e7bb-4df6-a744-7b41d2ccf0ae",
   "metadata": {},
   "outputs": [
    {
     "data": {
      "text/plain": [
       "0.8247989360251519"
      ]
     },
     "execution_count": 17,
     "metadata": {},
     "output_type": "execute_result"
    }
   ],
   "source": [
    "a = df1.Stats(\"ele1Pt\", \"wei\").GetW()\n",
    "b = df1.Filter(\"isTrueEle == 1\", \"true\").Stats(\"ele1Pt\", \"wei\").GetW()\n",
    "b/a"
   ]
  },
  {
   "cell_type": "code",
   "execution_count": 18,
   "id": "fb7a0c8d-03f5-47a4-b51b-c3280b201043",
   "metadata": {},
   "outputs": [
    {
     "name": "stdout",
     "output_type": "stream",
     "text": [
      "rdfentry_ | mcPID | testRvec | \n",
      "85        | 23    | 0        | \n",
      "          | ...   |          | \n",
      "          | -11   |          | \n",
      "119       | 23    | 0        | \n",
      "          | ...   |          | \n",
      "          | -11   |          | \n",
      "190       | 23    | 0        | \n",
      "          | ...   |          | \n",
      "          | -14   |          | \n",
      "199       | 23    | 0        | \n",
      "          | ...   |          | \n",
      "          | -13   |          | \n",
      "211       | 23    | 0        | \n",
      "          | ...   |          | \n",
      "          | -11   |          | \n"
     ]
    }
   ],
   "source": [
    "df1 = df1.Define(\"testRvec\", \"mcPID[-1]\")\n",
    "df1.Display({\"testRvec\", \"mcPID\", \"rdfentry_\"}).Print()"
   ]
  },
  {
   "cell_type": "code",
   "execution_count": 19,
   "id": "19632424-269a-456a-89e3-90abaec8105e",
   "metadata": {},
   "outputs": [
    {
     "name": "stdout",
     "output_type": "stream",
     "text": [
      "1621 1331 0.8210980876002467\n"
     ]
    }
   ],
   "source": [
    "a = df1.Count().GetValue()\n",
    "b = df1.Filter(\"isTrueEle == 1\", \"true\").Count().GetValue()\n",
    "c = b/a\n",
    "\n",
    "print(a, b, c)"
   ]
  },
  {
   "cell_type": "code",
   "execution_count": 20,
   "id": "9712a98e-57d7-426c-8900-b0694dda7a2f",
   "metadata": {},
   "outputs": [
    {
     "name": "stdout",
     "output_type": "stream",
     "text": [
      "56.576378193111836\n"
     ]
    }
   ],
   "source": [
    "print(df1.Stats(\"isTrueEle\", \"wei\").GetW())"
   ]
  },
  {
   "cell_type": "code",
   "execution_count": null,
   "id": "e92f2d72-5670-4cd0-9dc8-31c8fbc73233",
   "metadata": {},
   "outputs": [],
   "source": [
    "%%cpp -d\n",
    "void hello{\n",
    "    cout << \"hello\" << endl;\n",
    "} "
   ]
  }
 ],
 "metadata": {
  "kernelspec": {
   "display_name": "Python 3 (ipykernel)",
   "language": "python",
   "name": "python3"
  },
  "language_info": {
   "codemirror_mode": {
    "name": "ipython",
    "version": 3
   },
   "file_extension": ".py",
   "mimetype": "text/x-python",
   "name": "python",
   "nbconvert_exporter": "python",
   "pygments_lexer": "ipython3",
   "version": "3.8.12"
  }
 },
 "nbformat": 4,
 "nbformat_minor": 5
}
