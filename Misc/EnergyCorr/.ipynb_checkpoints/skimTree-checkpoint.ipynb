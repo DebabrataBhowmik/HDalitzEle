{
 "cells": [
  {
   "cell_type": "code",
   "execution_count": 1,
   "id": "e129b776-de4e-462d-9c9b-179e21964b3e",
   "metadata": {},
   "outputs": [
    {
     "name": "stdout",
     "output_type": "stream",
     "text": [
      "Welcome to JupyROOT 6.24/02\n"
     ]
    }
   ],
   "source": [
    "import ROOT # version: 6.24/02\n",
    "import os, sys\n",
    "import time\n",
    "import pickle\n",
    "import uproot # version: 4.0.11\n",
    "import numpy as np # version: 1.21.1\n",
    "import pandas as pd # version: 1.3.2\n",
    "from glob import glob\n",
    "from argparse import ArgumentParser\n",
    "from plugins.colorPrint import *\n",
    "import plugins.SampleConfig as Conf\n",
    "import xgboost as xgb\n",
    "import warnings\n",
    "warnings.filterwarnings(\"ignore\")"
   ]
  },
  {
   "cell_type": "code",
   "execution_count": 2,
   "id": "42ff6115-5896-4bcc-b203-edcb1782c7f8",
   "metadata": {},
   "outputs": [
    {
     "data": {
      "text/plain": [
       "0"
      ]
     },
     "execution_count": 2,
     "metadata": {},
     "output_type": "execute_result"
    }
   ],
   "source": [
    "def find_files(indir):\n",
    "    Infile_list = sorted(glob(indir))\n",
    "    f = ROOT.std.vector(\"string\")()\n",
    "    for i in Infile_list:\n",
    "        f.push_back(i)\n",
    "    return f\n",
    "\n",
    "def convert_class(arr, Type):\n",
    "    if Type not in [\"Merged-1Gsf\", \"Merged-2Gsf\"]:\n",
    "        print(\"This type of model is not available!(Merged-1Gsf or Merged-2Gsf)\")\n",
    "        sys.exit(1)\n",
    "    new_arr = [i+1 for i in arr] if Type == \"Merged-1Gsf\" else [0 if i == 0 else i+1 for i in arr]\n",
    "\n",
    "    return np.asarray(new_arr)\n",
    "\n",
    "ROOT.gInterpreter.ProcessLine(\"\"\"\n",
    "# include \"/home/chenghan/Analysis/Dalitz/electron/plugins/skim_utilities.h\"\n",
    "# include \"/home/chenghan/Analysis/Dalitz/electron/plugins/puweicalc.h\"\n",
    "\"\"\")"
   ]
  },
  {
   "cell_type": "code",
   "execution_count": 3,
   "id": "4081e39d-880b-4377-a55c-f06ba6909089",
   "metadata": {},
   "outputs": [
    {
     "data": {
      "text/plain": [
       "0"
      ]
     },
     "execution_count": 3,
     "metadata": {},
     "output_type": "execute_result"
    }
   ],
   "source": [
    "ROOT.gInterpreter.ProcessLine(\"\"\"\n",
    "    PUWeightCalculator puCalc[3];\n",
    "    puCalc[0].Init(PUfile(2016, \"nominal\").c_str()); \n",
    "    puCalc[1].Init(PUfile(2017, \"nominal\").c_str());\n",
    "    puCalc[2].Init(PUfile(2018, \"nominal\").c_str());\n",
    "\"\"\")"
   ]
  },
  {
   "cell_type": "code",
   "execution_count": 4,
   "id": "e7865bb8-664c-4fb6-a431-aa815dd205d8",
   "metadata": {},
   "outputs": [],
   "source": [
    "class analysis():\n",
    "    #____________________________________________________________________________________\n",
    "    def __init__(self, inputlist, outname, year, xs, luminosity, isMC, ncpu):\n",
    "        self.outname = outname\n",
    "        self.inputlist = inputlist\n",
    "        self.year = year\n",
    "        print(color.GREEN + \"Add weights to the branches(takes time to calculate...): \" + color.END)\n",
    "        MCwei = 1.\n",
    "        \n",
    "        ROOT.EnableImplicitMT(ncpu)\n",
    "        df1 = ROOT.RDataFrame(\"ggNtuplizer/EventTree\", self.inputlist)\n",
    "        \n",
    "        if (isMC == True):\n",
    "            pos = df1.Filter(\"genWeight > 0\", \"positive event to calculate mcwei\").Count()\n",
    "            neg = df1.Filter(\"genWeight <= 0\", \"negative event to calculate mcwei\").Count()\n",
    "            totalev = pos.GetValue() - neg.GetValue()\n",
    "            MCwei = ((xs * luminosity)/totalev)\n",
    "            print(\"# of total events with genweight = {}\".format(totalev))\n",
    "            print(\"mcwei = {}, XS = {}, Lumi = {}\".format(MCwei, xs, luminosity))\n",
    "            \n",
    "        self.df = (\n",
    "            df1\n",
    "            .Define(\"mcwei\", str(MCwei))\n",
    "            .Define(\"puwei\", \"puCalc[{}].GetWeight(run, puTrue[1])\".format(year-2016))\n",
    "            .Define(\"genwei\", \"if (genWeight > 0) return 1.; else return -1.; \")\n",
    "            .Define(\"wei\", \"mcwei * puwei * genwei\")\n",
    "        ) \n",
    "        \n",
    "        print (\"Loding done!\")\n",
    "\n",
    "    #____________________________________________________________________________________\n",
    "    def runSkim(self):\n",
    "        print(color.GREEN + \"Start to skim the ggNtuple: \" + color.END)\n",
    "        \n",
    "        if (self.year == 2016):\n",
    "            triggerCut = \"((HLTEleMuX >> 14) & 1) == 1 || ((HLTEleMuX >> 15) & 1) == 1 || ((HLTEleMuX >> 41) & 1) == 1 || ((HLTEleMuX >> 42) & 1) == 1\"\n",
    "        else:\n",
    "            triggerCut = \"((HLTEleMuX >> 14) & 1) == 1 || ((HLTEleMuX >> 15) & 1) == 1\"\n",
    "        \n",
    "        df2 = (self.df\n",
    "               .Filter(\"(nEle > 0) && (nGSFTrk > 0) && (nMu > 1)\", \"(nEle > 0) && (nGSFTrk > 0) && (nMu > 1)\")\n",
    "               .Filter(triggerCut, \"Pass HLT\") \n",
    "               .Filter(\"isPVGood == 1\", \"Good Vtx\")\n",
    "               \n",
    "               .Define(\"nGsfMatchToReco\", \"Gsf_fun(nEle, nGSFTrk, eleCalibPt, eleEta, elePhi, gsfPt, gsfEta, gsfPhi)[0]\")\n",
    "               .Define(\"gsfPtRatio\",      \"Gsf_fun(nEle, nGSFTrk, eleCalibPt, eleEta, elePhi, gsfPt, gsfEta, gsfPhi)[1]\")\n",
    "               .Define(\"gsfDeltaR\",       \"Gsf_fun(nEle, nGSFTrk, eleCalibPt, eleEta, elePhi, gsfPt, gsfEta, gsfPhi)[2]\")\n",
    "               .Define(\"gsfRelPtRatio\",   \"Gsf_fun(nEle, nGSFTrk, eleCalibPt, eleEta, elePhi, gsfPt, gsfEta, gsfPhi)[3]\")\n",
    "              )\n",
    "\n",
    "        df2.Report().Print()\n",
    "\n",
    "        branches = df2.GetColumnNames()\n",
    "        branches_remain = ROOT.std.vector(\"string\")()\n",
    "        for i in branches:\n",
    "            if ((str(i)[:2] == \"pf\") or (str(i)[:2] == \"bc\")):\n",
    "                continue\n",
    "            if (str(i)[:3] == \"HLT\"):\n",
    "                continue\n",
    "\n",
    "            branches_remain.push_back(i)\n",
    "        \n",
    "        print(color.GREEN + \"Save skimmed tree in(takes time to execute the event loop...):  \" + color.END)\n",
    "        print(self.outname)\n",
    "        df2.Snapshot(\"ggNtuplizer/EventTree\", self.outname, branches_remain) # save the skimmed tree\n",
    "        ROOT.DisableImplicitMT() #! MT should be closed here -> to do the prediction later\n",
    "    \n",
    "    #____________________________________________________________________________________\n",
    "    # Add the prediction results to the existing skimmed tree\n",
    "    def addPred(self, features, models): \n",
    "        # features is a dict containing {\"M1\": feature list for M1 ID, \"M2\": feature list for M2 ID} \n",
    "        # models is a dict containing {\"M1EB\": xgb model M1EB, \"M2EB\": xgb model M2EB, \"M1EE\": xgb model M1EE, \"M2EB\": xgb model M2EE} \n",
    "        print(color.GREEN + \"Predict the classes of electrons by xgboost(takes time)...\" + color.END)\n",
    "        print(\"Large dataframe(memory > 500 MB) will be split to small chunks to process\")\n",
    "\n",
    "        # open the skimmed tree\n",
    "        fout = ROOT.TFile(self.outname, \"UPDATE\") \n",
    "        tout = fout.Get(\"ggNtuplizer/EventTree\")\n",
    "        eleClass = ROOT.std.vector(\"float\")()\n",
    "        TB1 = tout.Branch(\"eleClass\", eleClass)\n",
    "        \n",
    "        branches = list(set(features[\"M1\"] + features[\"M2\"] + [\"nGsfMatchToReco\"]))\n",
    "        with uproot.open(\"{}:ggNtuplizer/EventTree\".format(self.outname)) as tree:\n",
    "            # split the dataframe based on the memory\n",
    "            for df_flat, report in tree.iterate(branches, step_size = \"500 MB\", library = \"pd\", report = True): \n",
    "                print(report)\n",
    "                \n",
    "                df_flat_0gsf = df_flat.query(\"nGsfMatchToReco == 0\")\n",
    "                df_flat_0gsf[\"eleClass\"] = -1 \n",
    "\n",
    "                # EB 1gsf prediction \n",
    "                df_flat_EB_1gsf = df_flat.query(\"(abs(eleSCEta) < 1.479) and (nGsfMatchToReco == 1)\")\n",
    "                x_EB_1gsf = xgb.DMatrix(df_flat_EB_1gsf.loc[:,features[\"M1\"]].values)\n",
    "                df_flat_EB_1gsf[\"eleClass\"] = convert_class(models[\"M1EB\"].predict(x_EB_1gsf).argmax(axis = 1), \"Merged-1Gsf\")\n",
    "\n",
    "                # EB 2gsf prediction \n",
    "                df_flat_EB_2gsf = df_flat.query(\"(abs(eleSCEta) < 1.479) and (nGsfMatchToReco >= 2)\")\n",
    "                x_EB_2gsf = xgb.DMatrix(df_flat_EB_2gsf.loc[:,features[\"M2\"]].values)\n",
    "                df_flat_EB_2gsf[\"eleClass\"] = convert_class(models[\"M2EB\"].predict(x_EB_2gsf).argmax(axis = 1), \"Merged-2Gsf\")\n",
    "\n",
    "                # EE 1gsf prediction \n",
    "                df_flat_EE_1gsf = df_flat.query(\"(abs(eleSCEta) >= 1.479) and (nGsfMatchToReco == 1)\")\n",
    "                x_EE_1gsf = xgb.DMatrix(df_flat_EE_1gsf.loc[:,features[\"M1\"]].values)\n",
    "                df_flat_EE_1gsf[\"eleClass\"] = convert_class(models[\"M1EE\"].predict(x_EE_1gsf).argmax(axis = 1), \"Merged-1Gsf\")\n",
    "\n",
    "                # EE 2gsf prediction \n",
    "                df_flat_EE_2gsf = df_flat.query(\"(abs(eleSCEta) >= 1.479) and (nGsfMatchToReco >= 2)\")\n",
    "                x_EE_2gsf = xgb.DMatrix(df_flat_EE_2gsf.loc[:,features[\"M2\"]].values)\n",
    "                df_flat_EE_2gsf[\"eleClass\"] = convert_class(models[\"M2EE\"].predict(x_EE_2gsf).argmax(axis = 1), \"Merged-2Gsf\")\n",
    "\n",
    "                df_new_EBEE = pd.concat([df_flat_0gsf, df_flat_EB_1gsf, df_flat_EB_2gsf, df_flat_EE_1gsf, df_flat_EE_2gsf], sort = False).sort_index()\n",
    "\n",
    "                # fill the branch\n",
    "                branches_out = [\"eleClass\"]\n",
    "                df_new = df_new_EBEE.groupby(\"entry\")[branches_out].agg(list)\n",
    "                arr_eleClass = df_new[\"eleClass\"].to_numpy() # loop numpy array is much faster than loop the pandas series\n",
    "\n",
    "                totalev = df_new_EBEE.index.get_level_values(0).nunique()\n",
    "                for i in range(totalev): # loop entry\n",
    "                    eleClass.clear()\n",
    "\n",
    "                    for j in range(len(arr_eleClass[i])): # loop subentry\n",
    "                        eleClass.push_back(arr_eleClass[i][j])\n",
    "\n",
    "                    TB1.Fill()\n",
    "                    \n",
    "        fout.Write()\n",
    "        fout.Close()"
   ]
  },
  {
   "cell_type": "code",
   "execution_count": 5,
   "id": "ee2bbfb3-ddc0-4e4c-89e2-c7fddff96059",
   "metadata": {},
   "outputs": [],
   "source": [
    "ncpus = os.cpu_count() - 2\n",
    "features = Conf.features\n",
    "models = {\n",
    "    \"M1EB\": pickle.load(open(Conf.models[\"M1EB\"], \"rb\")),\n",
    "    \"M2EB\": pickle.load(open(Conf.models[\"M2EB\"], \"rb\")),\n",
    "    \"M1EE\": pickle.load(open(Conf.models[\"M1EE\"], \"rb\")),\n",
    "    \"M2EE\": pickle.load(open(Conf.models[\"M2EE\"], \"rb\"))\n",
    "}\n"
   ]
  },
  {
   "cell_type": "code",
   "execution_count": 6,
   "id": "366397d7-5e7e-407c-af2f-191aefb9d391",
   "metadata": {},
   "outputs": [
    {
     "name": "stdout",
     "output_type": "stream",
     "text": [
      "\u001b[92mProcessing MC production ZZ...\u001b[0m\n",
      "Find_files(): 22 files are found in /data6/ggNtuples/V10_02_10_07/job_fall17_ZZ/\n",
      "\u001b[92mAdd weights to the branches(takes time to calculate...): \u001b[0m\n",
      "# of total events with genweight = 1949768\n",
      "mcwei = 0.025812455635747432, XS = 1212.0, Lumi = 41.525\n",
      "Loding done!\n",
      "\u001b[92mStart to skim the ggNtuple: \u001b[0m\n",
      "\u001b[92mSave skimmed tree in(takes time to execute the event loop...):  \u001b[0m\n",
      "/data4/chenghan/mc/V10_02_10_07/job_fall17_ZZ//skim.root\n",
      "\u001b[92mPredict the classes of electrons by xgboost(takes time)...\u001b[0m\n",
      "Large dataframe(memory > 500 MB) will be split to small chunks to process\n",
      "<Report start=0 stop=36622 source='/data4/chenghan/mc/V10_02_10_07/job_fall17_ZZ//skim.root:/ggNtuplizer/EventTree;1'>\n",
      "\n",
      "(nEle > 0) && (nGSFTrk > 0) && (nMu > 1): pass=129386     all=1949768    -- eff=6.64 % cumulative eff=6.64 %\n",
      "Pass HLT  : pass=36701      all=129386     -- eff=28.37 % cumulative eff=1.88 %\n",
      "Good Vtx  : pass=36622      all=36701      -- eff=99.78 % cumulative eff=1.88 %\n"
     ]
    }
   ],
   "source": [
    "isMC = True\n",
    "Era = \"ZZ_2017\"\n",
    "path, outpath = Conf.MCSample[Era][\"path\"], Conf.MCSample[Era][\"outpath\"]\n",
    "lumi = Conf.MCSample[Era][\"lumi\"][0]\n",
    "xs = Conf.MCSample[Era][\"xs\"]\n",
    "production = Conf.MCSample[Era][\"production\"]\n",
    "\n",
    "for i in range(len(path)):\n",
    "    print(color.GREEN + \"Processing MC production {}...\".format(production[i]) + color.END)\n",
    "    InFile_vector = find_files(\"{}/*.root\".format(path[i]))\n",
    "    print(\"Find_files(): {} files are found in {}\".format(InFile_vector.size(), path[i]))\n",
    "\n",
    "    os.makedirs(outpath[i], exist_ok = True)\n",
    "    OutFile = \"{}/skim.root\".format(outpath[i])\n",
    "\n",
    "    ana = analysis(InFile_vector, OutFile, 2017, xs[i], lumi, isMC, ncpus)\n",
    "    ana.runSkim()\n",
    "    ana.addPred(features, models)\n",
    "    print(\"\")"
   ]
  },
  {
   "cell_type": "code",
   "execution_count": 7,
   "id": "5dbc5a0b-505d-47f8-bbba-1f3a83bdf9c9",
   "metadata": {},
   "outputs": [
    {
     "name": "stdout",
     "output_type": "stream",
     "text": [
      "\u001b[92mProcessing MC production ZZ...\u001b[0m\n",
      "Find_files(): 3 files are found in /data6/ggNtuples/V10_02_10_07/job_autumn18_ZZ/\n",
      "\u001b[92mAdd weights to the branches(takes time to calculate...): \u001b[0m\n",
      "# of total events with genweight = 1979000\n",
      "mcwei = 0.036562102071753415, XS = 1212.0, Lumi = 59.7\n",
      "Loding done!\n",
      "\u001b[92mStart to skim the ggNtuple: \u001b[0m\n",
      "\u001b[92mSave skimmed tree in(takes time to execute the event loop...):  \u001b[0m\n",
      "/data4/chenghan/mc/V10_02_10_07/job_autumn18_ZZ//skim.root\n",
      "\u001b[92mPredict the classes of electrons by xgboost(takes time)...\u001b[0m\n",
      "Large dataframe(memory > 500 MB) will be split to small chunks to process\n",
      "<Report start=0 stop=38390 source='/data4/chenghan/mc/V10_02_10_07/job_autumn18_ZZ//skim.root:/ggNtuplizer/EventTree;1'>\n",
      "\n",
      "(nEle > 0) && (nGSFTrk > 0) && (nMu > 1): pass=141523     all=1979000    -- eff=7.15 % cumulative eff=7.15 %\n",
      "Pass HLT  : pass=38450      all=141523     -- eff=27.17 % cumulative eff=1.94 %\n",
      "Good Vtx  : pass=38390      all=38450      -- eff=99.84 % cumulative eff=1.94 %\n"
     ]
    }
   ],
   "source": [
    "isMC = True\n",
    "Era = \"ZZ_2018\"\n",
    "path, outpath = Conf.MCSample[Era][\"path\"], Conf.MCSample[Era][\"outpath\"]\n",
    "lumi = Conf.MCSample[Era][\"lumi\"][0]\n",
    "xs = Conf.MCSample[Era][\"xs\"]\n",
    "production = Conf.MCSample[Era][\"production\"]\n",
    "\n",
    "for i in range(len(path)):\n",
    "    print(color.GREEN + \"Processing MC production {}...\".format(production[i]) + color.END)\n",
    "    InFile_vector = find_files(\"{}/*.root\".format(path[i]))\n",
    "    print(\"Find_files(): {} files are found in {}\".format(InFile_vector.size(), path[i]))\n",
    "\n",
    "    os.makedirs(outpath[i], exist_ok = True)\n",
    "    OutFile = \"{}/skim.root\".format(outpath[i])\n",
    "\n",
    "    ana = analysis(InFile_vector, OutFile, 2018, xs[i], lumi, isMC, ncpus)\n",
    "    ana.runSkim()\n",
    "    ana.addPred(features, models)\n",
    "    print(\"\")"
   ]
  },
  {
   "cell_type": "code",
   "execution_count": 8,
   "id": "128d0f0b-a2d8-432a-93d6-15a3d2a8f1b0",
   "metadata": {},
   "outputs": [
    {
     "name": "stdout",
     "output_type": "stream",
     "text": [
      "\u001b[92mProcessing MC production ZZ...\u001b[0m\n",
      "Find_files(): 36 files are found in /data6/ggNtuples/V10_02_10_07/job_summer16_ZZ/\n",
      "\u001b[92mAdd weights to the branches(takes time to calculate...): \u001b[0m\n",
      "# of total events with genweight = 990064\n",
      "mcwei = 0.04394746198225569, XS = 1212.0, Lumi = 35.9\n",
      "Loding done!\n",
      "\u001b[92mStart to skim the ggNtuple: \u001b[0m\n",
      "\u001b[92mSave skimmed tree in(takes time to execute the event loop...):  \u001b[0m\n",
      "/data4/chenghan/mc/V10_02_10_07/job_summer16_ZZ//skim.root\n",
      "\u001b[92mPredict the classes of electrons by xgboost(takes time)...\u001b[0m\n",
      "Large dataframe(memory > 500 MB) will be split to small chunks to process\n",
      "<Report start=0 stop=19386 source='/data4/chenghan/mc/V10_02_10_07/job_summer16_ZZ//skim.root:/ggNtuplizer/EventTree;1'>\n",
      "\n",
      "(nEle > 0) && (nGSFTrk > 0) && (nMu > 1): pass=69928      all=990064     -- eff=7.06 % cumulative eff=7.06 %\n",
      "Pass HLT  : pass=19407      all=69928      -- eff=27.75 % cumulative eff=1.96 %\n",
      "Good Vtx  : pass=19386      all=19407      -- eff=99.89 % cumulative eff=1.96 %\n"
     ]
    }
   ],
   "source": [
    "isMC = True\n",
    "Era = \"ZZ_2016\"\n",
    "path, outpath = Conf.MCSample[Era][\"path\"], Conf.MCSample[Era][\"outpath\"]\n",
    "lumi = Conf.MCSample[Era][\"lumi\"][0]\n",
    "xs = Conf.MCSample[Era][\"xs\"]\n",
    "production = Conf.MCSample[Era][\"production\"]\n",
    "\n",
    "for i in range(len(path)):\n",
    "    print(color.GREEN + \"Processing MC production {}...\".format(production[i]) + color.END)\n",
    "    InFile_vector = find_files(\"{}/*.root\".format(path[i]))\n",
    "    print(\"Find_files(): {} files are found in {}\".format(InFile_vector.size(), path[i]))\n",
    "\n",
    "    os.makedirs(outpath[i], exist_ok = True)\n",
    "    OutFile = \"{}/skim.root\".format(outpath[i])\n",
    "\n",
    "    ana = analysis(InFile_vector, OutFile, 2016, xs[i], lumi, isMC, ncpus)\n",
    "    ana.runSkim()\n",
    "    ana.addPred(features, models)\n",
    "    print(\"\")"
   ]
  },
  {
   "cell_type": "code",
   "execution_count": 9,
   "id": "47f836e0-556b-48f8-b4c0-b2975aaa78ac",
   "metadata": {},
   "outputs": [
    {
     "data": {
      "text/plain": [
       "340837"
      ]
     },
     "execution_count": 9,
     "metadata": {},
     "output_type": "execute_result"
    }
   ],
   "source": [
    "a = 129386 + 141523 + 69928\n",
    "a"
   ]
  },
  {
   "cell_type": "code",
   "execution_count": 10,
   "id": "dea217fa-0947-4ecb-8e14-140c665c686c",
   "metadata": {},
   "outputs": [
    {
     "data": {
      "text/plain": [
       "94558"
      ]
     },
     "execution_count": 10,
     "metadata": {},
     "output_type": "execute_result"
    }
   ],
   "source": [
    "b = 36701 + 38450 + 19407\n",
    "b"
   ]
  },
  {
   "cell_type": "code",
   "execution_count": 11,
   "id": "2901d4e7-8804-47bf-98f0-d54fcca061e7",
   "metadata": {},
   "outputs": [
    {
     "data": {
      "text/plain": [
       "94398"
      ]
     },
     "execution_count": 11,
     "metadata": {},
     "output_type": "execute_result"
    }
   ],
   "source": [
    "c = 36622 + 38390 + 19386\n",
    "c"
   ]
  },
  {
   "cell_type": "code",
   "execution_count": null,
   "id": "d4808034-d657-4ffa-b88a-c8d6a09f7d6f",
   "metadata": {},
   "outputs": [],
   "source": []
  }
 ],
 "metadata": {
  "kernelspec": {
   "display_name": "Python 3 (ipykernel)",
   "language": "python",
   "name": "python3"
  },
  "language_info": {
   "codemirror_mode": {
    "name": "ipython",
    "version": 3
   },
   "file_extension": ".py",
   "mimetype": "text/x-python",
   "name": "python",
   "nbconvert_exporter": "python",
   "pygments_lexer": "ipython3",
   "version": "3.8.12"
  }
 },
 "nbformat": 4,
 "nbformat_minor": 5
}
