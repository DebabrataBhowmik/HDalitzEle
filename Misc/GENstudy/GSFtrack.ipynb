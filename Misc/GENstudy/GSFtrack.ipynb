{
 "cells": [
  {
   "cell_type": "code",
   "execution_count": 1,
   "id": "c07bed3c-8ad3-4d19-be1c-ea2e4d3bc0de",
   "metadata": {},
   "outputs": [
    {
     "name": "stdout",
     "output_type": "stream",
     "text": [
      "Welcome to JupyROOT 6.24/06\n"
     ]
    }
   ],
   "source": [
    "# script to determine the second gsf track associated to the electron cluster.\n",
    "import ROOT\n",
    "from plugins.CMS_lumi import CMS_lumi\n",
    "from plugins.sigmaEff import sigmaEff"
   ]
  },
  {
   "cell_type": "code",
   "execution_count": 2,
   "id": "b9a4a805-28dc-4f87-925b-1c324e74d3e9",
   "metadata": {},
   "outputs": [],
   "source": [
    "ROOT.EnableImplicitMT()\n",
    "rdf = ROOT.RDataFrame(\"outTree\", \"./minitree/2017/Minitree_HDalitz_ggF_eeg_m125_2017_RECO.root\")"
   ]
  },
  {
   "cell_type": "code",
   "execution_count": 4,
   "id": "f9441f8b-ccda-41e4-99f0-3df2448d987b",
   "metadata": {},
   "outputs": [
    {
     "name": "stdout",
     "output_type": "stream",
     "text": [
      "smallest dR: eff sigma = 2.3881765859659776\n",
      "highest pT: eff sigma = 2.589216981338124\n",
      "CPU times: user 280 ms, sys: 12.6 ms, total: 293 ms\n",
      "Wall time: 154 ms\n"
     ]
    }
   ],
   "source": [
    "%%time \n",
    "\n",
    "arr = rdf.Filter(\"category == 2\").AsNumpy(columns = [\"meeRatio\", \"meeRatioPtMax\"])\n",
    "\n",
    "xmin_dr, xmax_dr, sigma_dr = sigmaEff(arr[\"meeRatio\"], threshold = 0.683)\n",
    "print(\"smallest dR: eff sigma = {}\".format(sigma_dr))\n",
    "\n",
    "xmin_pt, xmax_pt, sigma_pt = sigmaEff(arr[\"meeRatioPtMax\"], threshold = 0.683)\n",
    "print(\"highest pT: eff sigma = {}\".format(sigma_pt))"
   ]
  },
  {
   "cell_type": "code",
   "execution_count": 20,
   "id": "4a3cdc31-b024-426c-9afb-fdd718338a8a",
   "metadata": {},
   "outputs": [],
   "source": [
    "def Draw1DHist(c, vh, vc, vcl , xaxis = \"x-axis\", yaxis = \"x-axis\", option = \"hist\", Log = True):\n",
    "    ROOT.gPad.SetRightMargin(0.05)\n",
    "    ROOT.gPad.SetTopMargin(0.07)\n",
    "    ROOT.gPad.SetLeftMargin(0.14)\n",
    "    ROOT.gPad.SetBottomMargin(0.15)\n",
    "    if (Log == True):\n",
    "        c.SetLogy()\n",
    "\n",
    "    # Set the axis style\n",
    "    if (Log == True):\n",
    "        ymax = vh[0].GetBinContent(vh[0].GetMaximumBin()) * 10\n",
    "        ymin = 1E-1\n",
    "    else: \n",
    "        ymax = vh[0].GetBinContent(vh[0].GetMaximumBin()) * 1.5\n",
    "        ymin = 0\n",
    "    vh[0].SetMarkerStyle(20)\n",
    "    vh[0].SetMarkerSize(1.2)\n",
    "    vh[0].GetXaxis().SetTitle(xaxis)\n",
    "    vh[0].GetXaxis().SetMoreLogLabels()\n",
    "    # vh[0].GetXaxis().SetTickSize(0.02)\n",
    "    vh[0].GetXaxis().SetTitleSize(0.05)\n",
    "    vh[0].GetXaxis().SetLabelSize(0.045)\n",
    "    vh[0].GetXaxis().SetLabelOffset(0.02)\n",
    "    vh[0].GetXaxis().SetTitleOffset(1.4)\n",
    "    vh[0].GetYaxis().SetTitle(yaxis)\n",
    "    vh[0].GetYaxis().SetRangeUser(ymin, ymax)\n",
    "    # vh[0].GetYaxis().SetNdivisions(506)\n",
    "    # vh[0].GetYaxis().SetTickSize(0.02)\n",
    "    vh[0].GetYaxis().SetTitleSize(0.05)\n",
    "    vh[0].GetYaxis().SetLabelSize(0.045)\n",
    "    # vh[0].GetYaxis().SetLabelOffset(0.02)\n",
    "    vh[0].GetYaxis().SetTitleOffset(1.4)\n",
    "\n",
    "    # Set the color style and draw option\n",
    "    for i, h in enumerate(vh):\n",
    "        h.SetLineColor(ROOT.TColor.GetColor(vcl[i]))\n",
    "        h.SetLineWidth(2)\n",
    "        if (vc[i] != None):\n",
    "            h.SetFillColor(ROOT.TColor.GetColor(vc[i]))\n",
    "        if (i == 0):\n",
    "            h.Draw(option)\n",
    "        else:\n",
    "            h.Draw(\"%s same\" %(option))"
   ]
  },
  {
   "cell_type": "code",
   "execution_count": 23,
   "id": "82e51bdb-d3db-4810-9aa0-e4d042467957",
   "metadata": {},
   "outputs": [
    {
     "name": "stdout",
     "output_type": "stream",
     "text": [
      "CMS (Preliminary) out of frame? --> True\n",
      "lumiText =   (13 TeV)\n",
      "procText =  \n"
     ]
    },
    {
     "name": "stderr",
     "output_type": "stream",
     "text": [
      "Warning in <TCanvas::Constructor>: Deleting canvas with same name: c1\n"
     ]
    },
    {
     "data": {
      "image/png": "[encoded data removed]",
      "text/plain": [
       "<IPython.core.display.Image object>"
      ]
     },
     "metadata": {},
     "output_type": "display_data"
    }
   ],
   "source": [
    "ROOT.gStyle.SetPadTickX(1)\n",
    "ROOT.gStyle.SetPadTickY(1)\n",
    "ROOT.gStyle.SetOptStat(0)\n",
    "\n",
    "h1 = rdf.Filter(\"category == 2\").Histo1D((\"h1\", \" \", 100, 0, 5), \"meeRatio\", \"mcwei\")\n",
    "h2 = rdf.Filter(\"category == 2\").Histo1D((\"h2\", \" \", 100, 0, 5), \"meeRatioPtMax\", \"mcwei\")\n",
    "\n",
    "c1 = ROOT.TCanvas(\"c1\", \"\", 800, 800)\n",
    "c1.cd()\n",
    "\n",
    "Draw1DHist(c1, [h1, h2], [None, None], [\"#E69D45\", \"#0061a8\"], xaxis = \"M^{gg}_{RECO} / M^{ee}_{GEN}\", yaxis = \"Events\", option = \"hist\", Log = False)\n",
    "CMS_lumi(c1, 5, 0, \"\", 2017, True, \"Work-in-progress\", \"\", \"\")\n",
    "\n",
    "leg = ROOT.TLegend(0.2, 0.7, 0.8, 0.9)\n",
    "leg.SetTextSize(0.04)\n",
    "leg.AddEntry(h1.GetPtr(), \"Two smallest dR tracks,#sigma_{eff} = %.2f\" %sigma_dr, \"l\")\n",
    "leg.AddEntry(h2.GetPtr(), \"Two highest pT tracks,#sigma_{eff} = %.2f\" %sigma_pt, \"l\")\n",
    "leg.SetFillColor(0)\n",
    "leg.SetLineColor(0)\n",
    "leg.Draw()\n",
    "\n",
    "c1.Draw()\n",
    "c1.RedrawAxis()"
   ]
  },
  {
   "cell_type": "code",
   "execution_count": 24,
   "id": "c44e4e62-5601-4d7d-9b39-5a5e07cf3bfe",
   "metadata": {},
   "outputs": [
    {
     "name": "stderr",
     "output_type": "stream",
     "text": [
      "Info in <TCanvas::Print>: pdf file ./plots/GSFtracks_2017_ggF.pdf has been created\n"
     ]
    }
   ],
   "source": [
    "import os\n",
    "\n",
    "outRes = \"./plots\"\n",
    "if not os.path.exists(outRes):\n",
    "    os.makedirs(outRes)\n",
    "    \n",
    "c1.Print(\"{}/GSFtracks_2017_ggF.pdf\".format(outRes))"
   ]
  },
  {
   "cell_type": "code",
   "execution_count": null,
   "id": "37f79aaa-84c2-437d-ac3d-3d6f13c7852f",
   "metadata": {},
   "outputs": [],
   "source": []
  }
 ],
 "metadata": {
  "kernelspec": {
   "display_name": "Python 3 (ipykernel)",
   "language": "python",
   "name": "python3"
  },
  "language_info": {
   "codemirror_mode": {
    "name": "ipython",
    "version": 3
   },
   "file_extension": ".py",
   "mimetype": "text/x-python",
   "name": "python",
   "nbconvert_exporter": "python",
   "pygments_lexer": "ipython3",
   "version": "3.8.12"
  }
 },
 "nbformat": 4,
 "nbformat_minor": 5
}
