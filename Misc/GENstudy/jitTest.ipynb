{
 "cells": [
  {
   "cell_type": "code",
   "execution_count": 1,
   "id": "5f989781-e2a1-41b6-857d-3e4a555e710c",
   "metadata": {},
   "outputs": [
    {
     "name": "stdout",
     "output_type": "stream",
     "text": [
      "Welcome to JupyROOT 6.24/06\n"
     ]
    }
   ],
   "source": [
    "import ROOT\n",
    "from plugins.CMS_lumi import CMS_lumi\n",
    "from plugins.sigmaEff import sigmaEff, sigmaEff_Nojit, sigmaEff_parallel"
   ]
  },
  {
   "cell_type": "code",
   "execution_count": 2,
   "id": "6375ef7a-fddf-4c00-b6dc-f17615974263",
   "metadata": {},
   "outputs": [],
   "source": [
    "ROOT.EnableImplicitMT()\n",
    "rdf = ROOT.RDataFrame(\"outTree\", \"./minitree/2017/Minitree_HDalitz_*.root\")\n",
    "\n",
    "arr = rdf.Filter(\"category == 2\").AsNumpy(columns = [\"meeRatio\"])[\"meeRatio\"]"
   ]
  },
  {
   "cell_type": "code",
   "execution_count": 3,
   "id": "914f8935-2d07-4ff7-b2cf-18d808593b24",
   "metadata": {},
   "outputs": [
    {
     "name": "stdout",
     "output_type": "stream",
     "text": [
      "CPU times: user 3.12 s, sys: 128 ms, total: 3.25 s\n",
      "Wall time: 3.51 s\n"
     ]
    },
    {
     "data": {
      "text/plain": [
       "2.4928312900397005"
      ]
     },
     "execution_count": 3,
     "metadata": {},
     "output_type": "execute_result"
    }
   ],
   "source": [
    "%%time\n",
    "# numba@jit -> just in time compiler \n",
    "# performance the same as root -l sigmaEff.C\n",
    "xmin_dr, xmax_dr, sigma_dr = sigmaEff(arr, threshold = 0.683)\n",
    "sigma_dr"
   ]
  },
  {
   "cell_type": "code",
   "execution_count": 4,
   "id": "2a7f829e-38f7-4d93-8cea-b27136711187",
   "metadata": {},
   "outputs": [
    {
     "name": "stdout",
     "output_type": "stream",
     "text": [
      "CPU times: user 2.13 s, sys: 29.3 ms, total: 2.16 s\n",
      "Wall time: 2.1 s\n"
     ]
    },
    {
     "data": {
      "text/plain": [
       "2.4928312900397005"
      ]
     },
     "execution_count": 4,
     "metadata": {},
     "output_type": "execute_result"
    }
   ],
   "source": [
    "%%time\n",
    "# numba@jit -> just in time compiler and parallel executing the while loop\n",
    "# good performance\n",
    "xmin_dr, xmax_dr, sigma_dr = sigmaEff_parallel(arr, threshold = 0.683)\n",
    "sigma_dr"
   ]
  },
  {
   "cell_type": "code",
   "execution_count": 5,
   "id": "e4dcfd14-79bc-463d-8f11-889e2af96a64",
   "metadata": {},
   "outputs": [
    {
     "name": "stdout",
     "output_type": "stream",
     "text": [
      "CPU times: user 6h 1min 37s, sys: 1min 24s, total: 6h 3min 2s\n",
      "Wall time: 6h 1min 44s\n"
     ]
    },
    {
     "data": {
      "text/plain": [
       "2.4928312900397005"
      ]
     },
     "execution_count": 5,
     "metadata": {},
     "output_type": "execute_result"
    }
   ],
   "source": [
    "%%time\n",
    "# standard while loop of python numpy array\n",
    "# very poor performance\n",
    "xmin_dr, xmax_dr, sigma_dr = sigmaEff_Nojit(arr, threshold = 0.683)\n",
    "sigma_dr"
   ]
  },
  {
   "cell_type": "code",
   "execution_count": null,
   "id": "f9e08ef1-6673-4fc3-80a5-7308d313a922",
   "metadata": {},
   "outputs": [],
   "source": []
  }
 ],
 "metadata": {
  "kernelspec": {
   "display_name": "Python 3 (ipykernel)",
   "language": "python",
   "name": "python3"
  },
  "language_info": {
   "codemirror_mode": {
    "name": "ipython",
    "version": 3
   },
   "file_extension": ".py",
   "mimetype": "text/x-python",
   "name": "python",
   "nbconvert_exporter": "python",
   "pygments_lexer": "ipython3",
   "version": "3.8.12"
  }
 },
 "nbformat": 4,
 "nbformat_minor": 5
}
